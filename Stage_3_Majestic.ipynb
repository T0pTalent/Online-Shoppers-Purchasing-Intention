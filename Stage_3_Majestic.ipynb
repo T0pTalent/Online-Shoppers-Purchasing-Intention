{
  "cells": [
    {
      "cell_type": "markdown",
      "metadata": {
        "id": "dbd6fe35-d873-474a-9750-8499cda58066"
      },
      "source": [
        "# Data Preproscessing"
      ],
      "id": "dbd6fe35-d873-474a-9750-8499cda58066"
    },
    {
      "cell_type": "code",
      "execution_count": null,
      "metadata": {
        "id": "06fd839e-181b-4dc5-adb3-9f6aa5b6c9e9"
      },
      "outputs": [],
      "source": [
        "# import library yang dibutuhkan\n",
        "\n",
        "import pandas as pd \n",
        "import numpy as np                     #untuk kalkulasi mathematic\n",
        "import seaborn as sns                  #Untuk visualisasi data\n",
        "import matplotlib.pyplot as plt        #Untuk plotting graphs \n",
        "from matplotlib import rcParams\n",
        "%matplotlib inline\n",
        "import warnings                        #Untuk mengabaikan peringatan\n",
        "warnings.filterwarnings(\"ignore\")"
      ],
      "id": "06fd839e-181b-4dc5-adb3-9f6aa5b6c9e9"
    },
    {
      "cell_type": "code",
      "execution_count": null,
      "metadata": {
        "id": "43dc22ee-2408-4a2c-a6a4-81227ba7be34"
      },
      "outputs": [],
      "source": [
        "# load dataset\n",
        "\n",
        "url = 'https://drive.google.com/file/d/1UJ07j4gSGHTDpw53wO3L2y4eoXesZbMN/view?usp=sharing'\n",
        "file_id = url.split('/')[-2]\n",
        "dwn_url = 'https://drive.google.com/uc?id=' + file_id\n",
        "\n",
        "#mengimpor dataset\n",
        "df = pd.read_csv(dwn_url)"
      ],
      "id": "43dc22ee-2408-4a2c-a6a4-81227ba7be34"
    },
    {
      "cell_type": "code",
      "execution_count": null,
      "metadata": {
        "id": "b75763ea-58c3-4a6f-93cf-a61a06b185b3"
      },
      "outputs": [],
      "source": [
        "# membagi feature berdasarkan value numerik dan kategori \n",
        "\n",
        "cats = ['Month', 'OperatingSystems', 'Browser', 'Region', 'TrafficType', 'VisitorType', 'Weekend', 'Revenue']\n",
        "nums = ['Administrative', 'Administrative_Duration','Informational', 'Informational_Duration', 'ProductRelated', 'ProductRelated_Duration', \n",
        "        'BounceRates', 'ExitRates', 'PageValues', 'SpecialDay']  "
      ],
      "id": "b75763ea-58c3-4a6f-93cf-a61a06b185b3"
    },
    {
      "cell_type": "markdown",
      "metadata": {
        "id": "373d0444-c176-4e97-97c9-61d9a975862d"
      },
      "source": [
        "## Handle Missing Values"
      ],
      "id": "373d0444-c176-4e97-97c9-61d9a975862d"
    },
    {
      "cell_type": "code",
      "execution_count": null,
      "metadata": {
        "colab": {
          "base_uri": "https://localhost:8080/"
        },
        "id": "ed8dd6a7-33d0-4e16-9e33-96972199b3b2",
        "outputId": "b82d300e-bc50-4bd0-a2c0-2f8a37ed7404"
      },
      "outputs": [
        {
          "data": {
            "text/plain": [
              "Administrative             0\n",
              "Administrative_Duration    0\n",
              "Informational              0\n",
              "Informational_Duration     0\n",
              "ProductRelated             0\n",
              "ProductRelated_Duration    0\n",
              "BounceRates                0\n",
              "ExitRates                  0\n",
              "PageValues                 0\n",
              "SpecialDay                 0\n",
              "Month                      0\n",
              "OperatingSystems           0\n",
              "Browser                    0\n",
              "Region                     0\n",
              "TrafficType                0\n",
              "VisitorType                0\n",
              "Weekend                    0\n",
              "Revenue                    0\n",
              "dtype: int64"
            ]
          },
          "execution_count": 5,
          "metadata": {},
          "output_type": "execute_result"
        }
      ],
      "source": [
        "# melihat jumlah missing value disetiap feature\n",
        "\n",
        "df.isnull().sum()"
      ],
      "id": "ed8dd6a7-33d0-4e16-9e33-96972199b3b2"
    },
    {
      "cell_type": "markdown",
      "metadata": {
        "id": "80550164-45e4-43af-bfca-dec2b52eb93a"
      },
      "source": [
        "**Tidak ada nilai yang kosong pada kolom**, sehingga tidak dilakukan handling missing value."
      ],
      "id": "80550164-45e4-43af-bfca-dec2b52eb93a"
    },
    {
      "cell_type": "markdown",
      "metadata": {
        "id": "2f64423d-77d2-4f23-8e6f-00b6ca50d7d7"
      },
      "source": [
        "## Handle Duplicated Data"
      ],
      "id": "2f64423d-77d2-4f23-8e6f-00b6ca50d7d7"
    },
    {
      "cell_type": "code",
      "execution_count": null,
      "metadata": {
        "colab": {
          "base_uri": "https://localhost:8080/"
        },
        "id": "dcc92dee-ac13-43b3-8059-e23702c6aa3b",
        "outputId": "eeb69dd0-f209-49f1-858e-28b1a2becdf6"
      },
      "outputs": [
        {
          "data": {
            "text/plain": [
              "125"
            ]
          },
          "execution_count": 6,
          "metadata": {},
          "output_type": "execute_result"
        }
      ],
      "source": [
        "# melihat jumlah duplikat\n",
        "\n",
        "df.duplicated().sum()"
      ],
      "id": "dcc92dee-ac13-43b3-8059-e23702c6aa3b"
    },
    {
      "cell_type": "code",
      "execution_count": null,
      "metadata": {
        "colab": {
          "base_uri": "https://localhost:8080/"
        },
        "id": "6c17998e-87f9-43b1-8563-7cae1e67297b",
        "outputId": "60136f7d-6d35-4bda-9052-741689dc4430"
      },
      "outputs": [
        {
          "data": {
            "text/html": [
              "\n",
              "  <div id=\"df-62a279da-4dbc-40c3-8e0b-636bb305ee90\">\n",
              "    <div class=\"colab-df-container\">\n",
              "      <div>\n",
              "<style scoped>\n",
              "    .dataframe tbody tr th:only-of-type {\n",
              "        vertical-align: middle;\n",
              "    }\n",
              "\n",
              "    .dataframe tbody tr th {\n",
              "        vertical-align: top;\n",
              "    }\n",
              "\n",
              "    .dataframe thead th {\n",
              "        text-align: right;\n",
              "    }\n",
              "</style>\n",
              "<table border=\"1\" class=\"dataframe\">\n",
              "  <thead>\n",
              "    <tr style=\"text-align: right;\">\n",
              "      <th></th>\n",
              "      <th>Administrative</th>\n",
              "      <th>Administrative_Duration</th>\n",
              "      <th>Informational</th>\n",
              "      <th>Informational_Duration</th>\n",
              "      <th>ProductRelated</th>\n",
              "      <th>ProductRelated_Duration</th>\n",
              "      <th>BounceRates</th>\n",
              "      <th>ExitRates</th>\n",
              "      <th>PageValues</th>\n",
              "      <th>SpecialDay</th>\n",
              "      <th>Month</th>\n",
              "      <th>OperatingSystems</th>\n",
              "      <th>Browser</th>\n",
              "      <th>Region</th>\n",
              "      <th>TrafficType</th>\n",
              "      <th>VisitorType</th>\n",
              "      <th>Weekend</th>\n",
              "      <th>Revenue</th>\n",
              "    </tr>\n",
              "  </thead>\n",
              "  <tbody>\n",
              "    <tr>\n",
              "      <th>85</th>\n",
              "      <td>0</td>\n",
              "      <td>0.0</td>\n",
              "      <td>0</td>\n",
              "      <td>0.0</td>\n",
              "      <td>1</td>\n",
              "      <td>0.0</td>\n",
              "      <td>0.2</td>\n",
              "      <td>0.2</td>\n",
              "      <td>0.0</td>\n",
              "      <td>0.0</td>\n",
              "      <td>Feb</td>\n",
              "      <td>1</td>\n",
              "      <td>1</td>\n",
              "      <td>1</td>\n",
              "      <td>3</td>\n",
              "      <td>Returning_Visitor</td>\n",
              "      <td>False</td>\n",
              "      <td>False</td>\n",
              "    </tr>\n",
              "    <tr>\n",
              "      <th>132</th>\n",
              "      <td>0</td>\n",
              "      <td>0.0</td>\n",
              "      <td>0</td>\n",
              "      <td>0.0</td>\n",
              "      <td>1</td>\n",
              "      <td>0.0</td>\n",
              "      <td>0.2</td>\n",
              "      <td>0.2</td>\n",
              "      <td>0.0</td>\n",
              "      <td>0.0</td>\n",
              "      <td>Feb</td>\n",
              "      <td>3</td>\n",
              "      <td>2</td>\n",
              "      <td>3</td>\n",
              "      <td>3</td>\n",
              "      <td>Returning_Visitor</td>\n",
              "      <td>False</td>\n",
              "      <td>False</td>\n",
              "    </tr>\n",
              "    <tr>\n",
              "      <th>158</th>\n",
              "      <td>0</td>\n",
              "      <td>0.0</td>\n",
              "      <td>0</td>\n",
              "      <td>0.0</td>\n",
              "      <td>1</td>\n",
              "      <td>0.0</td>\n",
              "      <td>0.2</td>\n",
              "      <td>0.2</td>\n",
              "      <td>0.0</td>\n",
              "      <td>0.0</td>\n",
              "      <td>Feb</td>\n",
              "      <td>1</td>\n",
              "      <td>1</td>\n",
              "      <td>1</td>\n",
              "      <td>3</td>\n",
              "      <td>Returning_Visitor</td>\n",
              "      <td>False</td>\n",
              "      <td>False</td>\n",
              "    </tr>\n",
              "    <tr>\n",
              "      <th>159</th>\n",
              "      <td>0</td>\n",
              "      <td>0.0</td>\n",
              "      <td>0</td>\n",
              "      <td>0.0</td>\n",
              "      <td>1</td>\n",
              "      <td>0.0</td>\n",
              "      <td>0.2</td>\n",
              "      <td>0.2</td>\n",
              "      <td>0.0</td>\n",
              "      <td>0.0</td>\n",
              "      <td>Feb</td>\n",
              "      <td>3</td>\n",
              "      <td>2</td>\n",
              "      <td>3</td>\n",
              "      <td>3</td>\n",
              "      <td>Returning_Visitor</td>\n",
              "      <td>False</td>\n",
              "      <td>False</td>\n",
              "    </tr>\n",
              "    <tr>\n",
              "      <th>178</th>\n",
              "      <td>0</td>\n",
              "      <td>0.0</td>\n",
              "      <td>0</td>\n",
              "      <td>0.0</td>\n",
              "      <td>1</td>\n",
              "      <td>0.0</td>\n",
              "      <td>0.2</td>\n",
              "      <td>0.2</td>\n",
              "      <td>0.0</td>\n",
              "      <td>0.0</td>\n",
              "      <td>Feb</td>\n",
              "      <td>3</td>\n",
              "      <td>2</td>\n",
              "      <td>3</td>\n",
              "      <td>3</td>\n",
              "      <td>Returning_Visitor</td>\n",
              "      <td>False</td>\n",
              "      <td>False</td>\n",
              "    </tr>\n",
              "    <tr>\n",
              "      <th>...</th>\n",
              "      <td>...</td>\n",
              "      <td>...</td>\n",
              "      <td>...</td>\n",
              "      <td>...</td>\n",
              "      <td>...</td>\n",
              "      <td>...</td>\n",
              "      <td>...</td>\n",
              "      <td>...</td>\n",
              "      <td>...</td>\n",
              "      <td>...</td>\n",
              "      <td>...</td>\n",
              "      <td>...</td>\n",
              "      <td>...</td>\n",
              "      <td>...</td>\n",
              "      <td>...</td>\n",
              "      <td>...</td>\n",
              "      <td>...</td>\n",
              "      <td>...</td>\n",
              "    </tr>\n",
              "    <tr>\n",
              "      <th>11934</th>\n",
              "      <td>0</td>\n",
              "      <td>0.0</td>\n",
              "      <td>0</td>\n",
              "      <td>0.0</td>\n",
              "      <td>1</td>\n",
              "      <td>0.0</td>\n",
              "      <td>0.2</td>\n",
              "      <td>0.2</td>\n",
              "      <td>0.0</td>\n",
              "      <td>0.0</td>\n",
              "      <td>Dec</td>\n",
              "      <td>1</td>\n",
              "      <td>1</td>\n",
              "      <td>1</td>\n",
              "      <td>2</td>\n",
              "      <td>New_Visitor</td>\n",
              "      <td>False</td>\n",
              "      <td>False</td>\n",
              "    </tr>\n",
              "    <tr>\n",
              "      <th>11938</th>\n",
              "      <td>0</td>\n",
              "      <td>0.0</td>\n",
              "      <td>0</td>\n",
              "      <td>0.0</td>\n",
              "      <td>1</td>\n",
              "      <td>0.0</td>\n",
              "      <td>0.2</td>\n",
              "      <td>0.2</td>\n",
              "      <td>0.0</td>\n",
              "      <td>0.0</td>\n",
              "      <td>Dec</td>\n",
              "      <td>1</td>\n",
              "      <td>1</td>\n",
              "      <td>4</td>\n",
              "      <td>1</td>\n",
              "      <td>Returning_Visitor</td>\n",
              "      <td>True</td>\n",
              "      <td>False</td>\n",
              "    </tr>\n",
              "    <tr>\n",
              "      <th>12159</th>\n",
              "      <td>0</td>\n",
              "      <td>0.0</td>\n",
              "      <td>0</td>\n",
              "      <td>0.0</td>\n",
              "      <td>1</td>\n",
              "      <td>0.0</td>\n",
              "      <td>0.2</td>\n",
              "      <td>0.2</td>\n",
              "      <td>0.0</td>\n",
              "      <td>0.0</td>\n",
              "      <td>Dec</td>\n",
              "      <td>1</td>\n",
              "      <td>1</td>\n",
              "      <td>1</td>\n",
              "      <td>3</td>\n",
              "      <td>Returning_Visitor</td>\n",
              "      <td>False</td>\n",
              "      <td>False</td>\n",
              "    </tr>\n",
              "    <tr>\n",
              "      <th>12180</th>\n",
              "      <td>0</td>\n",
              "      <td>0.0</td>\n",
              "      <td>0</td>\n",
              "      <td>0.0</td>\n",
              "      <td>1</td>\n",
              "      <td>0.0</td>\n",
              "      <td>0.2</td>\n",
              "      <td>0.2</td>\n",
              "      <td>0.0</td>\n",
              "      <td>0.0</td>\n",
              "      <td>Dec</td>\n",
              "      <td>1</td>\n",
              "      <td>13</td>\n",
              "      <td>9</td>\n",
              "      <td>20</td>\n",
              "      <td>Returning_Visitor</td>\n",
              "      <td>False</td>\n",
              "      <td>False</td>\n",
              "    </tr>\n",
              "    <tr>\n",
              "      <th>12185</th>\n",
              "      <td>0</td>\n",
              "      <td>0.0</td>\n",
              "      <td>0</td>\n",
              "      <td>0.0</td>\n",
              "      <td>1</td>\n",
              "      <td>0.0</td>\n",
              "      <td>0.2</td>\n",
              "      <td>0.2</td>\n",
              "      <td>0.0</td>\n",
              "      <td>0.0</td>\n",
              "      <td>Dec</td>\n",
              "      <td>8</td>\n",
              "      <td>13</td>\n",
              "      <td>9</td>\n",
              "      <td>20</td>\n",
              "      <td>Other</td>\n",
              "      <td>False</td>\n",
              "      <td>False</td>\n",
              "    </tr>\n",
              "  </tbody>\n",
              "</table>\n",
              "<p>201 rows × 18 columns</p>\n",
              "</div>\n",
              "      <button class=\"colab-df-convert\" onclick=\"convertToInteractive('df-62a279da-4dbc-40c3-8e0b-636bb305ee90')\"\n",
              "              title=\"Convert this dataframe to an interactive table.\"\n",
              "              style=\"display:none;\">\n",
              "        \n",
              "  <svg xmlns=\"http://www.w3.org/2000/svg\" height=\"24px\"viewBox=\"0 0 24 24\"\n",
              "       width=\"24px\">\n",
              "    <path d=\"M0 0h24v24H0V0z\" fill=\"none\"/>\n",
              "    <path d=\"M18.56 5.44l.94 2.06.94-2.06 2.06-.94-2.06-.94-.94-2.06-.94 2.06-2.06.94zm-11 1L8.5 8.5l.94-2.06 2.06-.94-2.06-.94L8.5 2.5l-.94 2.06-2.06.94zm10 10l.94 2.06.94-2.06 2.06-.94-2.06-.94-.94-2.06-.94 2.06-2.06.94z\"/><path d=\"M17.41 7.96l-1.37-1.37c-.4-.4-.92-.59-1.43-.59-.52 0-1.04.2-1.43.59L10.3 9.45l-7.72 7.72c-.78.78-.78 2.05 0 2.83L4 21.41c.39.39.9.59 1.41.59.51 0 1.02-.2 1.41-.59l7.78-7.78 2.81-2.81c.8-.78.8-2.07 0-2.86zM5.41 20L4 18.59l7.72-7.72 1.47 1.35L5.41 20z\"/>\n",
              "  </svg>\n",
              "      </button>\n",
              "      \n",
              "  <style>\n",
              "    .colab-df-container {\n",
              "      display:flex;\n",
              "      flex-wrap:wrap;\n",
              "      gap: 12px;\n",
              "    }\n",
              "\n",
              "    .colab-df-convert {\n",
              "      background-color: #E8F0FE;\n",
              "      border: none;\n",
              "      border-radius: 50%;\n",
              "      cursor: pointer;\n",
              "      display: none;\n",
              "      fill: #1967D2;\n",
              "      height: 32px;\n",
              "      padding: 0 0 0 0;\n",
              "      width: 32px;\n",
              "    }\n",
              "\n",
              "    .colab-df-convert:hover {\n",
              "      background-color: #E2EBFA;\n",
              "      box-shadow: 0px 1px 2px rgba(60, 64, 67, 0.3), 0px 1px 3px 1px rgba(60, 64, 67, 0.15);\n",
              "      fill: #174EA6;\n",
              "    }\n",
              "\n",
              "    [theme=dark] .colab-df-convert {\n",
              "      background-color: #3B4455;\n",
              "      fill: #D2E3FC;\n",
              "    }\n",
              "\n",
              "    [theme=dark] .colab-df-convert:hover {\n",
              "      background-color: #434B5C;\n",
              "      box-shadow: 0px 1px 3px 1px rgba(0, 0, 0, 0.15);\n",
              "      filter: drop-shadow(0px 1px 2px rgba(0, 0, 0, 0.3));\n",
              "      fill: #FFFFFF;\n",
              "    }\n",
              "  </style>\n",
              "\n",
              "      <script>\n",
              "        const buttonEl =\n",
              "          document.querySelector('#df-62a279da-4dbc-40c3-8e0b-636bb305ee90 button.colab-df-convert');\n",
              "        buttonEl.style.display =\n",
              "          google.colab.kernel.accessAllowed ? 'block' : 'none';\n",
              "\n",
              "        async function convertToInteractive(key) {\n",
              "          const element = document.querySelector('#df-62a279da-4dbc-40c3-8e0b-636bb305ee90');\n",
              "          const dataTable =\n",
              "            await google.colab.kernel.invokeFunction('convertToInteractive',\n",
              "                                                     [key], {});\n",
              "          if (!dataTable) return;\n",
              "\n",
              "          const docLinkHtml = 'Like what you see? Visit the ' +\n",
              "            '<a target=\"_blank\" href=https://colab.research.google.com/notebooks/data_table.ipynb>data table notebook</a>'\n",
              "            + ' to learn more about interactive tables.';\n",
              "          element.innerHTML = '';\n",
              "          dataTable['output_type'] = 'display_data';\n",
              "          await google.colab.output.renderOutput(dataTable, element);\n",
              "          const docLink = document.createElement('div');\n",
              "          docLink.innerHTML = docLinkHtml;\n",
              "          element.appendChild(docLink);\n",
              "        }\n",
              "      </script>\n",
              "    </div>\n",
              "  </div>\n",
              "  "
            ],
            "text/plain": [
              "       Administrative  Administrative_Duration  Informational  \\\n",
              "85                  0                      0.0              0   \n",
              "132                 0                      0.0              0   \n",
              "158                 0                      0.0              0   \n",
              "159                 0                      0.0              0   \n",
              "178                 0                      0.0              0   \n",
              "...               ...                      ...            ...   \n",
              "11934               0                      0.0              0   \n",
              "11938               0                      0.0              0   \n",
              "12159               0                      0.0              0   \n",
              "12180               0                      0.0              0   \n",
              "12185               0                      0.0              0   \n",
              "\n",
              "       Informational_Duration  ProductRelated  ProductRelated_Duration  \\\n",
              "85                        0.0               1                      0.0   \n",
              "132                       0.0               1                      0.0   \n",
              "158                       0.0               1                      0.0   \n",
              "159                       0.0               1                      0.0   \n",
              "178                       0.0               1                      0.0   \n",
              "...                       ...             ...                      ...   \n",
              "11934                     0.0               1                      0.0   \n",
              "11938                     0.0               1                      0.0   \n",
              "12159                     0.0               1                      0.0   \n",
              "12180                     0.0               1                      0.0   \n",
              "12185                     0.0               1                      0.0   \n",
              "\n",
              "       BounceRates  ExitRates  PageValues  SpecialDay Month  OperatingSystems  \\\n",
              "85             0.2        0.2         0.0         0.0   Feb                 1   \n",
              "132            0.2        0.2         0.0         0.0   Feb                 3   \n",
              "158            0.2        0.2         0.0         0.0   Feb                 1   \n",
              "159            0.2        0.2         0.0         0.0   Feb                 3   \n",
              "178            0.2        0.2         0.0         0.0   Feb                 3   \n",
              "...            ...        ...         ...         ...   ...               ...   \n",
              "11934          0.2        0.2         0.0         0.0   Dec                 1   \n",
              "11938          0.2        0.2         0.0         0.0   Dec                 1   \n",
              "12159          0.2        0.2         0.0         0.0   Dec                 1   \n",
              "12180          0.2        0.2         0.0         0.0   Dec                 1   \n",
              "12185          0.2        0.2         0.0         0.0   Dec                 8   \n",
              "\n",
              "       Browser  Region  TrafficType        VisitorType  Weekend  Revenue  \n",
              "85           1       1            3  Returning_Visitor    False    False  \n",
              "132          2       3            3  Returning_Visitor    False    False  \n",
              "158          1       1            3  Returning_Visitor    False    False  \n",
              "159          2       3            3  Returning_Visitor    False    False  \n",
              "178          2       3            3  Returning_Visitor    False    False  \n",
              "...        ...     ...          ...                ...      ...      ...  \n",
              "11934        1       1            2        New_Visitor    False    False  \n",
              "11938        1       4            1  Returning_Visitor     True    False  \n",
              "12159        1       1            3  Returning_Visitor    False    False  \n",
              "12180       13       9           20  Returning_Visitor    False    False  \n",
              "12185       13       9           20              Other    False    False  \n",
              "\n",
              "[201 rows x 18 columns]"
            ]
          },
          "execution_count": 7,
          "metadata": {},
          "output_type": "execute_result"
        }
      ],
      "source": [
        "df[df.duplicated(keep=False) == True]"
      ],
      "id": "6c17998e-87f9-43b1-8563-7cae1e67297b"
    },
    {
      "cell_type": "code",
      "execution_count": null,
      "metadata": {
        "colab": {
          "base_uri": "https://localhost:8080/"
        },
        "id": "960c6a8b-a08b-49a5-8372-749ceaceff2e",
        "outputId": "1b408872-283a-4145-9185-26ec8ed5dcde"
      },
      "outputs": [
        {
          "name": "stdout",
          "output_type": "stream",
          "text": [
            "Jumlah row duplicated SEBELUM dihapus 125\n",
            "Jumlah row duplicated SETELAH dihapus 0\n"
          ]
        }
      ],
      "source": [
        "print(f'Jumlah row duplicated SEBELUM dihapus {df.duplicated().sum()}')\n",
        "\n",
        "# menghapus duplikat\n",
        "\n",
        "df.drop_duplicates(inplace=True)\n",
        "print(f'Jumlah row duplicated SETELAH dihapus {df.duplicated().sum()}')"
      ],
      "id": "960c6a8b-a08b-49a5-8372-749ceaceff2e"
    },
    {
      "cell_type": "code",
      "execution_count": null,
      "metadata": {
        "id": "af66d76c-10f3-45cf-a515-f9476ffb76b1"
      },
      "outputs": [],
      "source": [
        "# inisiasi update datadrame\n",
        "\n",
        "df = df.drop_duplicates().reset_index(drop = True)"
      ],
      "id": "af66d76c-10f3-45cf-a515-f9476ffb76b1"
    },
    {
      "cell_type": "markdown",
      "metadata": {
        "id": "f18d2047-c9e9-439a-8437-7dd79dd8c520"
      },
      "source": [
        "## Handle Outliers"
      ],
      "id": "f18d2047-c9e9-439a-8437-7dd79dd8c520"
    },
    {
      "cell_type": "code",
      "execution_count": null,
      "metadata": {
        "colab": {
          "base_uri": "https://localhost:8080/"
        },
        "id": "259f375b-d946-4cca-a133-02819c5ea74c",
        "outputId": "2906aea8-901c-4d3e-b003-3d612d2eee4a"
      },
      "outputs": [
        {
          "name": "stdout",
          "output_type": "stream",
          "text": [
            "Jumlah baris sebelum memfilter outlier: 12205\n",
            "Jumlah baris setelah memfilter outlier: 10020\n",
            "Prsentase outlier: 17.9%\n"
          ]
        }
      ],
      "source": [
        "#Cek outlier\n",
        "\n",
        "from scipy import stats\n",
        "filtered_entries = np.array([True] * len(df))\n",
        "\n",
        "print(f'Jumlah baris sebelum memfilter outlier: {len(df)}')\n",
        "\n",
        "for col in nums:\n",
        "    zscore = abs(stats.zscore(df[col])) # menghitung absolute z-scorenya\n",
        "    filtered_entries = (zscore < 3) & filtered_entries # keep yang kurang dari 3 absolute z-scorenya\n",
        "\n",
        "df1 = df[filtered_entries]\n",
        "print(f'Jumlah baris setelah memfilter outlier: {len(df1)}')\n",
        "print(f'Prsentase outlier: {round((len(df)-len(df1))/len(df)*100, 2)}%')\n"
      ],
      "id": "259f375b-d946-4cca-a133-02819c5ea74c"
    },
    {
      "cell_type": "markdown",
      "metadata": {
        "id": "09d40397-994d-4aa6-a630-9753da2c1b21"
      },
      "source": [
        "Presentase outlier dalam data 17.90%, nilai tersebut cukup besar, maka outlier tidak dihilangkan. Tidak dilakukan handle juga karena outlier ini bukan dari kesalahan dalam pengambilan data."
      ],
      "id": "09d40397-994d-4aa6-a630-9753da2c1b21"
    },
    {
      "cell_type": "markdown",
      "metadata": {
        "id": "2d5453c3-33ef-4c95-b7e1-a77ce9630c7e"
      },
      "source": [
        "## Feature Transformation"
      ],
      "id": "2d5453c3-33ef-4c95-b7e1-a77ce9630c7e"
    },
    {
      "cell_type": "markdown",
      "metadata": {
        "id": "c690a42e-349a-412e-9d09-7ac4d404a39b"
      },
      "source": [
        "Transformasi feature tidak menggunakan log karena data memiliki banyak value dengan nilai 0. PowerTransformer Yeo-Johnson dipilih untuk membuat distribusi lebih mendekati normal (Guassian) dan mendukung value data memiliki nilai positif atau negatif."
      ],
      "id": "c690a42e-349a-412e-9d09-7ac4d404a39b"
    },
    {
      "cell_type": "code",
      "execution_count": null,
      "metadata": {
        "id": "a9f48c85-47d6-49f0-8370-43f7cbb55899"
      },
      "outputs": [],
      "source": [
        "# transformasi data\n",
        "\n",
        "from sklearn.preprocessing import PowerTransformer\n",
        "\n",
        "for x in nums:\n",
        "    pt = PowerTransformer(method='yeo-johnson')\n",
        "    df[x] = pt.fit_transform(df[x].to_frame())"
      ],
      "id": "a9f48c85-47d6-49f0-8370-43f7cbb55899"
    },
    {
      "cell_type": "code",
      "execution_count": null,
      "metadata": {
        "colab": {
          "base_uri": "https://localhost:8080/"
        },
        "id": "66903b7b-4ab8-4028-bddb-930259816c91",
        "outputId": "c73d1a27-3543-4c8c-96ac-dcd7dc746b60"
      },
      "outputs": [
        {
          "data": {
            "image/png": "[encoded data removed]",
            "text/plain": [
              "<Figure size 1080x1080 with 10 Axes>"
            ]
          },
          "metadata": {},
          "output_type": "display_data"
        }
      ],
      "source": [
        "# cek distribusi data\n",
        "\n",
        "features = nums\n",
        "plt.figure(figsize=(15, 15))\n",
        "for i in range(0, len(nums)):\n",
        "    plt.subplot(5, 5, i+1)\n",
        "    sns.kdeplot(x=df[features[i]])\n",
        "    plt.xlabel(features[i])\n",
        "    plt.tight_layout()"
      ],
      "id": "66903b7b-4ab8-4028-bddb-930259816c91"
    },
    {
      "cell_type": "code",
      "execution_count": null,
      "metadata": {
        "colab": {
          "base_uri": "https://localhost:8080/"
        },
        "id": "0b03bdf8-a3b5-4f0c-b73b-6781f99d36d5",
        "outputId": "78edaa1b-b19f-475a-82b6-12dc130f796f"
      },
      "outputs": [
        {
          "data": {
            "text/html": [
              "\n",
              "  <div id=\"df-ff576778-5aeb-4be1-ab21-445d32b8d1e3\">\n",
              "    <div class=\"colab-df-container\">\n",
              "      <div>\n",
              "<style scoped>\n",
              "    .dataframe tbody tr th:only-of-type {\n",
              "        vertical-align: middle;\n",
              "    }\n",
              "\n",
              "    .dataframe tbody tr th {\n",
              "        vertical-align: top;\n",
              "    }\n",
              "\n",
              "    .dataframe thead th {\n",
              "        text-align: right;\n",
              "    }\n",
              "</style>\n",
              "<table border=\"1\" class=\"dataframe\">\n",
              "  <thead>\n",
              "    <tr style=\"text-align: right;\">\n",
              "      <th></th>\n",
              "      <th>Administrative</th>\n",
              "      <th>Administrative_Duration</th>\n",
              "      <th>Informational</th>\n",
              "      <th>Informational_Duration</th>\n",
              "      <th>ProductRelated</th>\n",
              "      <th>ProductRelated_Duration</th>\n",
              "      <th>BounceRates</th>\n",
              "      <th>ExitRates</th>\n",
              "      <th>PageValues</th>\n",
              "      <th>SpecialDay</th>\n",
              "      <th>Month</th>\n",
              "      <th>OperatingSystems</th>\n",
              "      <th>Browser</th>\n",
              "      <th>Region</th>\n",
              "      <th>TrafficType</th>\n",
              "      <th>VisitorType</th>\n",
              "      <th>Weekend</th>\n",
              "      <th>Revenue</th>\n",
              "    </tr>\n",
              "  </thead>\n",
              "  <tbody>\n",
              "    <tr>\n",
              "      <th>0</th>\n",
              "      <td>-0.998474</td>\n",
              "      <td>-1.005468</td>\n",
              "      <td>-0.523851</td>\n",
              "      <td>-0.494799</td>\n",
              "      <td>-1.976591</td>\n",
              "      <td>-2.168082</td>\n",
              "      <td>2.219446</td>\n",
              "      <td>2.011278</td>\n",
              "      <td>-0.532801</td>\n",
              "      <td>-0.33763</td>\n",
              "      <td>Feb</td>\n",
              "      <td>1</td>\n",
              "      <td>1</td>\n",
              "      <td>1</td>\n",
              "      <td>1</td>\n",
              "      <td>Returning_Visitor</td>\n",
              "      <td>False</td>\n",
              "      <td>False</td>\n",
              "    </tr>\n",
              "    <tr>\n",
              "      <th>1</th>\n",
              "      <td>-0.998474</td>\n",
              "      <td>-1.005468</td>\n",
              "      <td>-0.523851</td>\n",
              "      <td>-0.494799</td>\n",
              "      <td>-1.620640</td>\n",
              "      <td>-1.115160</td>\n",
              "      <td>-0.802948</td>\n",
              "      <td>1.610382</td>\n",
              "      <td>-0.532801</td>\n",
              "      <td>-0.33763</td>\n",
              "      <td>Feb</td>\n",
              "      <td>2</td>\n",
              "      <td>2</td>\n",
              "      <td>1</td>\n",
              "      <td>2</td>\n",
              "      <td>Returning_Visitor</td>\n",
              "      <td>False</td>\n",
              "      <td>False</td>\n",
              "    </tr>\n",
              "    <tr>\n",
              "      <th>2</th>\n",
              "      <td>-0.998474</td>\n",
              "      <td>-1.005468</td>\n",
              "      <td>-0.523851</td>\n",
              "      <td>-0.494799</td>\n",
              "      <td>-1.976591</td>\n",
              "      <td>-2.168082</td>\n",
              "      <td>2.219446</td>\n",
              "      <td>2.011278</td>\n",
              "      <td>-0.532801</td>\n",
              "      <td>-0.33763</td>\n",
              "      <td>Feb</td>\n",
              "      <td>4</td>\n",
              "      <td>1</td>\n",
              "      <td>9</td>\n",
              "      <td>3</td>\n",
              "      <td>Returning_Visitor</td>\n",
              "      <td>False</td>\n",
              "      <td>False</td>\n",
              "    </tr>\n",
              "    <tr>\n",
              "      <th>3</th>\n",
              "      <td>-0.998474</td>\n",
              "      <td>-1.005468</td>\n",
              "      <td>-0.523851</td>\n",
              "      <td>-0.494799</td>\n",
              "      <td>-1.620640</td>\n",
              "      <td>-1.938936</td>\n",
              "      <td>1.772681</td>\n",
              "      <td>1.867073</td>\n",
              "      <td>-0.532801</td>\n",
              "      <td>-0.33763</td>\n",
              "      <td>Feb</td>\n",
              "      <td>3</td>\n",
              "      <td>2</td>\n",
              "      <td>2</td>\n",
              "      <td>4</td>\n",
              "      <td>Returning_Visitor</td>\n",
              "      <td>False</td>\n",
              "      <td>False</td>\n",
              "    </tr>\n",
              "    <tr>\n",
              "      <th>4</th>\n",
              "      <td>-0.998474</td>\n",
              "      <td>-1.005468</td>\n",
              "      <td>-0.523851</td>\n",
              "      <td>-0.494799</td>\n",
              "      <td>-0.466390</td>\n",
              "      <td>0.039282</td>\n",
              "      <td>0.827019</td>\n",
              "      <td>0.762250</td>\n",
              "      <td>-0.532801</td>\n",
              "      <td>-0.33763</td>\n",
              "      <td>Feb</td>\n",
              "      <td>3</td>\n",
              "      <td>3</td>\n",
              "      <td>1</td>\n",
              "      <td>4</td>\n",
              "      <td>Returning_Visitor</td>\n",
              "      <td>True</td>\n",
              "      <td>False</td>\n",
              "    </tr>\n",
              "    <tr>\n",
              "      <th>...</th>\n",
              "      <td>...</td>\n",
              "      <td>...</td>\n",
              "      <td>...</td>\n",
              "      <td>...</td>\n",
              "      <td>...</td>\n",
              "      <td>...</td>\n",
              "      <td>...</td>\n",
              "      <td>...</td>\n",
              "      <td>...</td>\n",
              "      <td>...</td>\n",
              "      <td>...</td>\n",
              "      <td>...</td>\n",
              "      <td>...</td>\n",
              "      <td>...</td>\n",
              "      <td>...</td>\n",
              "      <td>...</td>\n",
              "      <td>...</td>\n",
              "      <td>...</td>\n",
              "    </tr>\n",
              "    <tr>\n",
              "      <th>12200</th>\n",
              "      <td>0.834177</td>\n",
              "      <td>1.117196</td>\n",
              "      <td>-0.523851</td>\n",
              "      <td>-0.494799</td>\n",
              "      <td>0.975836</td>\n",
              "      <td>0.804599</td>\n",
              "      <td>-0.068325</td>\n",
              "      <td>0.018165</td>\n",
              "      <td>1.918193</td>\n",
              "      <td>-0.33763</td>\n",
              "      <td>Dec</td>\n",
              "      <td>4</td>\n",
              "      <td>6</td>\n",
              "      <td>1</td>\n",
              "      <td>1</td>\n",
              "      <td>Returning_Visitor</td>\n",
              "      <td>True</td>\n",
              "      <td>False</td>\n",
              "    </tr>\n",
              "    <tr>\n",
              "      <th>12201</th>\n",
              "      <td>-0.998474</td>\n",
              "      <td>-1.005468</td>\n",
              "      <td>-0.523851</td>\n",
              "      <td>-0.494799</td>\n",
              "      <td>-1.007465</td>\n",
              "      <td>-0.147834</td>\n",
              "      <td>-0.802948</td>\n",
              "      <td>-0.355710</td>\n",
              "      <td>-0.532801</td>\n",
              "      <td>-0.33763</td>\n",
              "      <td>Nov</td>\n",
              "      <td>3</td>\n",
              "      <td>2</td>\n",
              "      <td>1</td>\n",
              "      <td>8</td>\n",
              "      <td>Returning_Visitor</td>\n",
              "      <td>True</td>\n",
              "      <td>False</td>\n",
              "    </tr>\n",
              "    <tr>\n",
              "      <th>12202</th>\n",
              "      <td>-0.998474</td>\n",
              "      <td>-1.005468</td>\n",
              "      <td>-0.523851</td>\n",
              "      <td>-0.494799</td>\n",
              "      <td>-0.870293</td>\n",
              "      <td>-0.654912</td>\n",
              "      <td>2.089475</td>\n",
              "      <td>1.464595</td>\n",
              "      <td>-0.532801</td>\n",
              "      <td>-0.33763</td>\n",
              "      <td>Nov</td>\n",
              "      <td>3</td>\n",
              "      <td>2</td>\n",
              "      <td>1</td>\n",
              "      <td>13</td>\n",
              "      <td>Returning_Visitor</td>\n",
              "      <td>True</td>\n",
              "      <td>False</td>\n",
              "    </tr>\n",
              "    <tr>\n",
              "      <th>12203</th>\n",
              "      <td>1.028024</td>\n",
              "      <td>0.893985</td>\n",
              "      <td>-0.523851</td>\n",
              "      <td>-0.494799</td>\n",
              "      <td>-0.129623</td>\n",
              "      <td>-0.322180</td>\n",
              "      <td>-0.802948</td>\n",
              "      <td>-0.370615</td>\n",
              "      <td>-0.532801</td>\n",
              "      <td>-0.33763</td>\n",
              "      <td>Nov</td>\n",
              "      <td>2</td>\n",
              "      <td>2</td>\n",
              "      <td>3</td>\n",
              "      <td>11</td>\n",
              "      <td>Returning_Visitor</td>\n",
              "      <td>False</td>\n",
              "      <td>False</td>\n",
              "    </tr>\n",
              "    <tr>\n",
              "      <th>12204</th>\n",
              "      <td>-0.998474</td>\n",
              "      <td>-1.005468</td>\n",
              "      <td>-0.523851</td>\n",
              "      <td>-0.494799</td>\n",
              "      <td>-1.366868</td>\n",
              "      <td>-1.486050</td>\n",
              "      <td>-0.802948</td>\n",
              "      <td>1.150838</td>\n",
              "      <td>-0.532801</td>\n",
              "      <td>-0.33763</td>\n",
              "      <td>Nov</td>\n",
              "      <td>3</td>\n",
              "      <td>2</td>\n",
              "      <td>1</td>\n",
              "      <td>2</td>\n",
              "      <td>New_Visitor</td>\n",
              "      <td>True</td>\n",
              "      <td>False</td>\n",
              "    </tr>\n",
              "  </tbody>\n",
              "</table>\n",
              "<p>12205 rows × 18 columns</p>\n",
              "</div>\n",
              "      <button class=\"colab-df-convert\" onclick=\"convertToInteractive('df-ff576778-5aeb-4be1-ab21-445d32b8d1e3')\"\n",
              "              title=\"Convert this dataframe to an interactive table.\"\n",
              "              style=\"display:none;\">\n",
              "        \n",
              "  <svg xmlns=\"http://www.w3.org/2000/svg\" height=\"24px\"viewBox=\"0 0 24 24\"\n",
              "       width=\"24px\">\n",
              "    <path d=\"M0 0h24v24H0V0z\" fill=\"none\"/>\n",
              "    <path d=\"M18.56 5.44l.94 2.06.94-2.06 2.06-.94-2.06-.94-.94-2.06-.94 2.06-2.06.94zm-11 1L8.5 8.5l.94-2.06 2.06-.94-2.06-.94L8.5 2.5l-.94 2.06-2.06.94zm10 10l.94 2.06.94-2.06 2.06-.94-2.06-.94-.94-2.06-.94 2.06-2.06.94z\"/><path d=\"M17.41 7.96l-1.37-1.37c-.4-.4-.92-.59-1.43-.59-.52 0-1.04.2-1.43.59L10.3 9.45l-7.72 7.72c-.78.78-.78 2.05 0 2.83L4 21.41c.39.39.9.59 1.41.59.51 0 1.02-.2 1.41-.59l7.78-7.78 2.81-2.81c.8-.78.8-2.07 0-2.86zM5.41 20L4 18.59l7.72-7.72 1.47 1.35L5.41 20z\"/>\n",
              "  </svg>\n",
              "      </button>\n",
              "      \n",
              "  <style>\n",
              "    .colab-df-container {\n",
              "      display:flex;\n",
              "      flex-wrap:wrap;\n",
              "      gap: 12px;\n",
              "    }\n",
              "\n",
              "    .colab-df-convert {\n",
              "      background-color: #E8F0FE;\n",
              "      border: none;\n",
              "      border-radius: 50%;\n",
              "      cursor: pointer;\n",
              "      display: none;\n",
              "      fill: #1967D2;\n",
              "      height: 32px;\n",
              "      padding: 0 0 0 0;\n",
              "      width: 32px;\n",
              "    }\n",
              "\n",
              "    .colab-df-convert:hover {\n",
              "      background-color: #E2EBFA;\n",
              "      box-shadow: 0px 1px 2px rgba(60, 64, 67, 0.3), 0px 1px 3px 1px rgba(60, 64, 67, 0.15);\n",
              "      fill: #174EA6;\n",
              "    }\n",
              "\n",
              "    [theme=dark] .colab-df-convert {\n",
              "      background-color: #3B4455;\n",
              "      fill: #D2E3FC;\n",
              "    }\n",
              "\n",
              "    [theme=dark] .colab-df-convert:hover {\n",
              "      background-color: #434B5C;\n",
              "      box-shadow: 0px 1px 3px 1px rgba(0, 0, 0, 0.15);\n",
              "      filter: drop-shadow(0px 1px 2px rgba(0, 0, 0, 0.3));\n",
              "      fill: #FFFFFF;\n",
              "    }\n",
              "  </style>\n",
              "\n",
              "      <script>\n",
              "        const buttonEl =\n",
              "          document.querySelector('#df-ff576778-5aeb-4be1-ab21-445d32b8d1e3 button.colab-df-convert');\n",
              "        buttonEl.style.display =\n",
              "          google.colab.kernel.accessAllowed ? 'block' : 'none';\n",
              "\n",
              "        async function convertToInteractive(key) {\n",
              "          const element = document.querySelector('#df-ff576778-5aeb-4be1-ab21-445d32b8d1e3');\n",
              "          const dataTable =\n",
              "            await google.colab.kernel.invokeFunction('convertToInteractive',\n",
              "                                                     [key], {});\n",
              "          if (!dataTable) return;\n",
              "\n",
              "          const docLinkHtml = 'Like what you see? Visit the ' +\n",
              "            '<a target=\"_blank\" href=https://colab.research.google.com/notebooks/data_table.ipynb>data table notebook</a>'\n",
              "            + ' to learn more about interactive tables.';\n",
              "          element.innerHTML = '';\n",
              "          dataTable['output_type'] = 'display_data';\n",
              "          await google.colab.output.renderOutput(dataTable, element);\n",
              "          const docLink = document.createElement('div');\n",
              "          docLink.innerHTML = docLinkHtml;\n",
              "          element.appendChild(docLink);\n",
              "        }\n",
              "      </script>\n",
              "    </div>\n",
              "  </div>\n",
              "  "
            ],
            "text/plain": [
              "       Administrative  Administrative_Duration  Informational  \\\n",
              "0           -0.998474                -1.005468      -0.523851   \n",
              "1           -0.998474                -1.005468      -0.523851   \n",
              "2           -0.998474                -1.005468      -0.523851   \n",
              "3           -0.998474                -1.005468      -0.523851   \n",
              "4           -0.998474                -1.005468      -0.523851   \n",
              "...               ...                      ...            ...   \n",
              "12200        0.834177                 1.117196      -0.523851   \n",
              "12201       -0.998474                -1.005468      -0.523851   \n",
              "12202       -0.998474                -1.005468      -0.523851   \n",
              "12203        1.028024                 0.893985      -0.523851   \n",
              "12204       -0.998474                -1.005468      -0.523851   \n",
              "\n",
              "       Informational_Duration  ProductRelated  ProductRelated_Duration  \\\n",
              "0                   -0.494799       -1.976591                -2.168082   \n",
              "1                   -0.494799       -1.620640                -1.115160   \n",
              "2                   -0.494799       -1.976591                -2.168082   \n",
              "3                   -0.494799       -1.620640                -1.938936   \n",
              "4                   -0.494799       -0.466390                 0.039282   \n",
              "...                       ...             ...                      ...   \n",
              "12200               -0.494799        0.975836                 0.804599   \n",
              "12201               -0.494799       -1.007465                -0.147834   \n",
              "12202               -0.494799       -0.870293                -0.654912   \n",
              "12203               -0.494799       -0.129623                -0.322180   \n",
              "12204               -0.494799       -1.366868                -1.486050   \n",
              "\n",
              "       BounceRates  ExitRates  PageValues  SpecialDay Month  OperatingSystems  \\\n",
              "0         2.219446   2.011278   -0.532801    -0.33763   Feb                 1   \n",
              "1        -0.802948   1.610382   -0.532801    -0.33763   Feb                 2   \n",
              "2         2.219446   2.011278   -0.532801    -0.33763   Feb                 4   \n",
              "3         1.772681   1.867073   -0.532801    -0.33763   Feb                 3   \n",
              "4         0.827019   0.762250   -0.532801    -0.33763   Feb                 3   \n",
              "...            ...        ...         ...         ...   ...               ...   \n",
              "12200    -0.068325   0.018165    1.918193    -0.33763   Dec                 4   \n",
              "12201    -0.802948  -0.355710   -0.532801    -0.33763   Nov                 3   \n",
              "12202     2.089475   1.464595   -0.532801    -0.33763   Nov                 3   \n",
              "12203    -0.802948  -0.370615   -0.532801    -0.33763   Nov                 2   \n",
              "12204    -0.802948   1.150838   -0.532801    -0.33763   Nov                 3   \n",
              "\n",
              "       Browser  Region  TrafficType        VisitorType  Weekend  Revenue  \n",
              "0            1       1            1  Returning_Visitor    False    False  \n",
              "1            2       1            2  Returning_Visitor    False    False  \n",
              "2            1       9            3  Returning_Visitor    False    False  \n",
              "3            2       2            4  Returning_Visitor    False    False  \n",
              "4            3       1            4  Returning_Visitor     True    False  \n",
              "...        ...     ...          ...                ...      ...      ...  \n",
              "12200        6       1            1  Returning_Visitor     True    False  \n",
              "12201        2       1            8  Returning_Visitor     True    False  \n",
              "12202        2       1           13  Returning_Visitor     True    False  \n",
              "12203        2       3           11  Returning_Visitor    False    False  \n",
              "12204        2       1            2        New_Visitor     True    False  \n",
              "\n",
              "[12205 rows x 18 columns]"
            ]
          },
          "execution_count": 13,
          "metadata": {},
          "output_type": "execute_result"
        }
      ],
      "source": [
        "df"
      ],
      "id": "0b03bdf8-a3b5-4f0c-b73b-6781f99d36d5"
    },
    {
      "cell_type": "markdown",
      "metadata": {
        "id": "05ada3ed-f1ce-4c5a-b0b6-ba89bb435db6"
      },
      "source": [
        "## Feature Encoding"
      ],
      "id": "05ada3ed-f1ce-4c5a-b0b6-ba89bb435db6"
    },
    {
      "cell_type": "markdown",
      "metadata": {
        "id": "a5d74bba-cfa2-4bed-8c84-8ae31ed44577"
      },
      "source": [
        "**Handle Feature VisitorType**"
      ],
      "id": "a5d74bba-cfa2-4bed-8c84-8ae31ed44577"
    },
    {
      "cell_type": "code",
      "execution_count": null,
      "metadata": {
        "colab": {
          "base_uri": "https://localhost:8080/"
        },
        "id": "849154fb-b07a-4d37-8f4c-c2747c645141",
        "outputId": "c14d87c5-9813-4e4a-a97c-9739328f60d2"
      },
      "outputs": [
        {
          "data": {
            "text/plain": [
              "Returning_Visitor    10431\n",
              "New_Visitor           1693\n",
              "Other                   81\n",
              "Name: VisitorType, dtype: int64"
            ]
          },
          "execution_count": 14,
          "metadata": {},
          "output_type": "execute_result"
        }
      ],
      "source": [
        "df['VisitorType'].value_counts()"
      ],
      "id": "849154fb-b07a-4d37-8f4c-c2747c645141"
    },
    {
      "cell_type": "markdown",
      "metadata": {
        "id": "02aa6623-1bf7-4af1-98de-e93604ddf881"
      },
      "source": [
        "Value `Other` diinisiai kedalam `ReturningVisitor` (modus)."
      ],
      "id": "02aa6623-1bf7-4af1-98de-e93604ddf881"
    },
    {
      "cell_type": "code",
      "execution_count": null,
      "metadata": {
        "id": "c6600c50-5ecd-48e3-9df7-df755551f003"
      },
      "outputs": [],
      "source": [
        "df['VisitorType'].replace('Other', 'Returning_Visitor', inplace=True)"
      ],
      "id": "c6600c50-5ecd-48e3-9df7-df755551f003"
    },
    {
      "cell_type": "markdown",
      "metadata": {
        "id": "3d8a4665-004c-43a2-9c93-5d1bff18cd6e"
      },
      "source": [
        "**Update Feature Kategori**"
      ],
      "id": "3d8a4665-004c-43a2-9c93-5d1bff18cd6e"
    },
    {
      "cell_type": "code",
      "execution_count": null,
      "metadata": {
        "id": "54dd43b2-eda0-4a49-8753-321a7e4a04ad"
      },
      "outputs": [],
      "source": [
        "cats_updated = ['Month', 'OperatingSystems', 'Browser', 'Region', 'TrafficType', 'VisitorType', 'Weekend', 'Revenue']"
      ],
      "id": "54dd43b2-eda0-4a49-8753-321a7e4a04ad"
    },
    {
      "cell_type": "code",
      "execution_count": null,
      "metadata": {
        "colab": {
          "base_uri": "https://localhost:8080/"
        },
        "id": "2f820a7b-19df-43fe-9bf1-ab56ec300bb5",
        "outputId": "c8b1742e-9248-4167-e650-e06a2e568445"
      },
      "outputs": [
        {
          "name": "stdout",
          "output_type": "stream",
          "text": [
            "Value counts of column Month\n",
            "May     3329\n",
            "Nov     2982\n",
            "Mar     1860\n",
            "Dec     1706\n",
            "Oct      549\n",
            "Sep      448\n",
            "Aug      433\n",
            "Jul      432\n",
            "June     285\n",
            "Feb      181\n",
            "Name: Month, dtype: int64\n",
            "------------------------------ \n",
            "\n",
            "Value counts of column OperatingSystems\n",
            "2    6541\n",
            "1    2549\n",
            "3    2530\n",
            "4     478\n",
            "8      75\n",
            "6      19\n",
            "7       7\n",
            "5       6\n",
            "Name: OperatingSystems, dtype: int64\n",
            "------------------------------ \n",
            "\n",
            "Value counts of column Browser\n",
            "2     7883\n",
            "1     2427\n",
            "4      731\n",
            "5      465\n",
            "6      174\n",
            "10     163\n",
            "8      135\n",
            "3      105\n",
            "13      56\n",
            "7       49\n",
            "12      10\n",
            "11       6\n",
            "9        1\n",
            "Name: Browser, dtype: int64\n",
            "------------------------------ \n",
            "\n",
            "Value counts of column Region\n",
            "1    4714\n",
            "3    2379\n",
            "4    1171\n",
            "2    1128\n",
            "6     801\n",
            "7     758\n",
            "9     505\n",
            "8     431\n",
            "5     318\n",
            "Name: Region, dtype: int64\n",
            "------------------------------ \n",
            "\n",
            "Value counts of column TrafficType\n",
            "2     3911\n",
            "1     2388\n",
            "3     2013\n",
            "4     1066\n",
            "13     728\n",
            "10     450\n",
            "6      443\n",
            "8      343\n",
            "5      260\n",
            "11     247\n",
            "20     193\n",
            "9       41\n",
            "7       40\n",
            "15      37\n",
            "19      17\n",
            "14      13\n",
            "18      10\n",
            "16       3\n",
            "12       1\n",
            "17       1\n",
            "Name: TrafficType, dtype: int64\n",
            "------------------------------ \n",
            "\n",
            "Value counts of column VisitorType\n",
            "Returning_Visitor    10512\n",
            "New_Visitor           1693\n",
            "Name: VisitorType, dtype: int64\n",
            "------------------------------ \n",
            "\n",
            "Value counts of column Weekend\n",
            "False    9346\n",
            "True     2859\n",
            "Name: Weekend, dtype: int64\n",
            "------------------------------ \n",
            "\n",
            "Value counts of column Revenue\n",
            "False    10297\n",
            "True      1908\n",
            "Name: Revenue, dtype: int64\n",
            "------------------------------ \n",
            "\n"
          ]
        }
      ],
      "source": [
        "for col in cats_updated:\n",
        "    print(f'Value counts of column {col}')\n",
        "    print(df[col].value_counts())\n",
        "    print('---'*10, '\\n')"
      ],
      "id": "2f820a7b-19df-43fe-9bf1-ab56ec300bb5"
    },
    {
      "cell_type": "markdown",
      "metadata": {
        "id": "53648649-7eac-41bf-9a9b-3365d3a89db0"
      },
      "source": [
        "**Strategi Encoding**:\n",
        "> OperatingSystems, Browser, Region, TrafficType sudah memiliki feature numerik <br>\n",
        "> Month akan dilakukan label encoding <br>\n",
        "> VisitorType, Weekend, dan Revenue akan dilakukan One Hot Encoding <br>"
      ],
      "id": "53648649-7eac-41bf-9a9b-3365d3a89db0"
    },
    {
      "cell_type": "markdown",
      "metadata": {
        "id": "36ee81ec-dbae-4a7c-9d37-3ec707a609c2"
      },
      "source": [
        "### Label Encoding"
      ],
      "id": "36ee81ec-dbae-4a7c-9d37-3ec707a609c2"
    },
    {
      "cell_type": "markdown",
      "metadata": {
        "id": "21261a9e-1620-4e06-829b-25771127bbd8"
      },
      "source": [
        "**Month**"
      ],
      "id": "21261a9e-1620-4e06-829b-25771127bbd8"
    },
    {
      "cell_type": "code",
      "execution_count": null,
      "metadata": {
        "colab": {
          "base_uri": "https://localhost:8080/"
        },
        "id": "e5882bd1-6a1c-4527-b854-badf3f6e8a80",
        "outputId": "77bf6bba-b300-4c41-e7e0-6b490ed21f65"
      },
      "outputs": [
        {
          "data": {
            "text/html": [
              "\n",
              "  <div id=\"df-dbcbb96f-3a09-4674-ba5a-afa41b5996ea\">\n",
              "    <div class=\"colab-df-container\">\n",
              "      <div>\n",
              "<style scoped>\n",
              "    .dataframe tbody tr th:only-of-type {\n",
              "        vertical-align: middle;\n",
              "    }\n",
              "\n",
              "    .dataframe tbody tr th {\n",
              "        vertical-align: top;\n",
              "    }\n",
              "\n",
              "    .dataframe thead th {\n",
              "        text-align: right;\n",
              "    }\n",
              "</style>\n",
              "<table border=\"1\" class=\"dataframe\">\n",
              "  <thead>\n",
              "    <tr style=\"text-align: right;\">\n",
              "      <th></th>\n",
              "      <th>index</th>\n",
              "      <th>Month</th>\n",
              "    </tr>\n",
              "  </thead>\n",
              "  <tbody>\n",
              "    <tr>\n",
              "      <th>0</th>\n",
              "      <td>May</td>\n",
              "      <td>1</td>\n",
              "    </tr>\n",
              "    <tr>\n",
              "      <th>1</th>\n",
              "      <td>Nov</td>\n",
              "      <td>2</td>\n",
              "    </tr>\n",
              "    <tr>\n",
              "      <th>2</th>\n",
              "      <td>Mar</td>\n",
              "      <td>3</td>\n",
              "    </tr>\n",
              "    <tr>\n",
              "      <th>3</th>\n",
              "      <td>Dec</td>\n",
              "      <td>4</td>\n",
              "    </tr>\n",
              "    <tr>\n",
              "      <th>4</th>\n",
              "      <td>Oct</td>\n",
              "      <td>5</td>\n",
              "    </tr>\n",
              "    <tr>\n",
              "      <th>5</th>\n",
              "      <td>Sep</td>\n",
              "      <td>6</td>\n",
              "    </tr>\n",
              "    <tr>\n",
              "      <th>6</th>\n",
              "      <td>Aug</td>\n",
              "      <td>7</td>\n",
              "    </tr>\n",
              "    <tr>\n",
              "      <th>7</th>\n",
              "      <td>Jul</td>\n",
              "      <td>8</td>\n",
              "    </tr>\n",
              "    <tr>\n",
              "      <th>8</th>\n",
              "      <td>June</td>\n",
              "      <td>9</td>\n",
              "    </tr>\n",
              "    <tr>\n",
              "      <th>9</th>\n",
              "      <td>Feb</td>\n",
              "      <td>10</td>\n",
              "    </tr>\n",
              "  </tbody>\n",
              "</table>\n",
              "</div>\n",
              "      <button class=\"colab-df-convert\" onclick=\"convertToInteractive('df-dbcbb96f-3a09-4674-ba5a-afa41b5996ea')\"\n",
              "              title=\"Convert this dataframe to an interactive table.\"\n",
              "              style=\"display:none;\">\n",
              "        \n",
              "  <svg xmlns=\"http://www.w3.org/2000/svg\" height=\"24px\"viewBox=\"0 0 24 24\"\n",
              "       width=\"24px\">\n",
              "    <path d=\"M0 0h24v24H0V0z\" fill=\"none\"/>\n",
              "    <path d=\"M18.56 5.44l.94 2.06.94-2.06 2.06-.94-2.06-.94-.94-2.06-.94 2.06-2.06.94zm-11 1L8.5 8.5l.94-2.06 2.06-.94-2.06-.94L8.5 2.5l-.94 2.06-2.06.94zm10 10l.94 2.06.94-2.06 2.06-.94-2.06-.94-.94-2.06-.94 2.06-2.06.94z\"/><path d=\"M17.41 7.96l-1.37-1.37c-.4-.4-.92-.59-1.43-.59-.52 0-1.04.2-1.43.59L10.3 9.45l-7.72 7.72c-.78.78-.78 2.05 0 2.83L4 21.41c.39.39.9.59 1.41.59.51 0 1.02-.2 1.41-.59l7.78-7.78 2.81-2.81c.8-.78.8-2.07 0-2.86zM5.41 20L4 18.59l7.72-7.72 1.47 1.35L5.41 20z\"/>\n",
              "  </svg>\n",
              "      </button>\n",
              "      \n",
              "  <style>\n",
              "    .colab-df-container {\n",
              "      display:flex;\n",
              "      flex-wrap:wrap;\n",
              "      gap: 12px;\n",
              "    }\n",
              "\n",
              "    .colab-df-convert {\n",
              "      background-color: #E8F0FE;\n",
              "      border: none;\n",
              "      border-radius: 50%;\n",
              "      cursor: pointer;\n",
              "      display: none;\n",
              "      fill: #1967D2;\n",
              "      height: 32px;\n",
              "      padding: 0 0 0 0;\n",
              "      width: 32px;\n",
              "    }\n",
              "\n",
              "    .colab-df-convert:hover {\n",
              "      background-color: #E2EBFA;\n",
              "      box-shadow: 0px 1px 2px rgba(60, 64, 67, 0.3), 0px 1px 3px 1px rgba(60, 64, 67, 0.15);\n",
              "      fill: #174EA6;\n",
              "    }\n",
              "\n",
              "    [theme=dark] .colab-df-convert {\n",
              "      background-color: #3B4455;\n",
              "      fill: #D2E3FC;\n",
              "    }\n",
              "\n",
              "    [theme=dark] .colab-df-convert:hover {\n",
              "      background-color: #434B5C;\n",
              "      box-shadow: 0px 1px 3px 1px rgba(0, 0, 0, 0.15);\n",
              "      filter: drop-shadow(0px 1px 2px rgba(0, 0, 0, 0.3));\n",
              "      fill: #FFFFFF;\n",
              "    }\n",
              "  </style>\n",
              "\n",
              "      <script>\n",
              "        const buttonEl =\n",
              "          document.querySelector('#df-dbcbb96f-3a09-4674-ba5a-afa41b5996ea button.colab-df-convert');\n",
              "        buttonEl.style.display =\n",
              "          google.colab.kernel.accessAllowed ? 'block' : 'none';\n",
              "\n",
              "        async function convertToInteractive(key) {\n",
              "          const element = document.querySelector('#df-dbcbb96f-3a09-4674-ba5a-afa41b5996ea');\n",
              "          const dataTable =\n",
              "            await google.colab.kernel.invokeFunction('convertToInteractive',\n",
              "                                                     [key], {});\n",
              "          if (!dataTable) return;\n",
              "\n",
              "          const docLinkHtml = 'Like what you see? Visit the ' +\n",
              "            '<a target=\"_blank\" href=https://colab.research.google.com/notebooks/data_table.ipynb>data table notebook</a>'\n",
              "            + ' to learn more about interactive tables.';\n",
              "          element.innerHTML = '';\n",
              "          dataTable['output_type'] = 'display_data';\n",
              "          await google.colab.output.renderOutput(dataTable, element);\n",
              "          const docLink = document.createElement('div');\n",
              "          docLink.innerHTML = docLinkHtml;\n",
              "          element.appendChild(docLink);\n",
              "        }\n",
              "      </script>\n",
              "    </div>\n",
              "  </div>\n",
              "  "
            ],
            "text/plain": [
              "  index  Month\n",
              "0   May      1\n",
              "1   Nov      2\n",
              "2   Mar      3\n",
              "3   Dec      4\n",
              "4   Oct      5\n",
              "5   Sep      6\n",
              "6   Aug      7\n",
              "7   Jul      8\n",
              "8  June      9\n",
              "9   Feb     10"
            ]
          },
          "execution_count": 18,
          "metadata": {},
          "output_type": "execute_result"
        }
      ],
      "source": [
        "# membuat label peringkat berdasarkan jumlah peringkat user dari yang terbesar\n",
        "\n",
        "month = df['Month'].value_counts().reset_index()\n",
        "month_df = pd.DataFrame(month)\n",
        "month_df['Month'] = (month_df['Month'].rank(ascending=False)).astype(int)\n",
        "month_df"
      ],
      "id": "e5882bd1-6a1c-4527-b854-badf3f6e8a80"
    },
    {
      "cell_type": "code",
      "execution_count": null,
      "metadata": {
        "id": "a5dd15ec-08f6-4aeb-bf53-ac2521f355ef"
      },
      "outputs": [],
      "source": [
        "# mapping ke dataframe (run kode 1 x)\n",
        "\n",
        "mapping_month = month_df.set_index('index')['Month'].to_dict()\n",
        "\n",
        "df['Month'] = df['Month'].map(mapping_month)"
      ],
      "id": "a5dd15ec-08f6-4aeb-bf53-ac2521f355ef"
    },
    {
      "cell_type": "code",
      "execution_count": null,
      "metadata": {
        "colab": {
          "base_uri": "https://localhost:8080/"
        },
        "id": "8dc0c18e-7503-4875-8fe0-de23d77b53ab",
        "outputId": "7297ed62-18d4-4c24-c5c1-13c337552ae1"
      },
      "outputs": [
        {
          "data": {
            "text/html": [
              "\n",
              "  <div id=\"df-f4a0d2d4-7b65-429e-a909-fd7784b4fcdc\">\n",
              "    <div class=\"colab-df-container\">\n",
              "      <div>\n",
              "<style scoped>\n",
              "    .dataframe tbody tr th:only-of-type {\n",
              "        vertical-align: middle;\n",
              "    }\n",
              "\n",
              "    .dataframe tbody tr th {\n",
              "        vertical-align: top;\n",
              "    }\n",
              "\n",
              "    .dataframe thead th {\n",
              "        text-align: right;\n",
              "    }\n",
              "</style>\n",
              "<table border=\"1\" class=\"dataframe\">\n",
              "  <thead>\n",
              "    <tr style=\"text-align: right;\">\n",
              "      <th></th>\n",
              "      <th>Administrative</th>\n",
              "      <th>Administrative_Duration</th>\n",
              "      <th>Informational</th>\n",
              "      <th>Informational_Duration</th>\n",
              "      <th>ProductRelated</th>\n",
              "      <th>ProductRelated_Duration</th>\n",
              "      <th>BounceRates</th>\n",
              "      <th>ExitRates</th>\n",
              "      <th>PageValues</th>\n",
              "      <th>SpecialDay</th>\n",
              "      <th>Month</th>\n",
              "      <th>OperatingSystems</th>\n",
              "      <th>Browser</th>\n",
              "      <th>Region</th>\n",
              "      <th>TrafficType</th>\n",
              "      <th>VisitorType</th>\n",
              "      <th>Weekend</th>\n",
              "      <th>Revenue</th>\n",
              "    </tr>\n",
              "  </thead>\n",
              "  <tbody>\n",
              "    <tr>\n",
              "      <th>0</th>\n",
              "      <td>-0.998474</td>\n",
              "      <td>-1.005468</td>\n",
              "      <td>-0.523851</td>\n",
              "      <td>-0.494799</td>\n",
              "      <td>-1.976591</td>\n",
              "      <td>-2.168082</td>\n",
              "      <td>2.219446</td>\n",
              "      <td>2.011278</td>\n",
              "      <td>-0.532801</td>\n",
              "      <td>-0.33763</td>\n",
              "      <td>10</td>\n",
              "      <td>1</td>\n",
              "      <td>1</td>\n",
              "      <td>1</td>\n",
              "      <td>1</td>\n",
              "      <td>Returning_Visitor</td>\n",
              "      <td>False</td>\n",
              "      <td>False</td>\n",
              "    </tr>\n",
              "    <tr>\n",
              "      <th>1</th>\n",
              "      <td>-0.998474</td>\n",
              "      <td>-1.005468</td>\n",
              "      <td>-0.523851</td>\n",
              "      <td>-0.494799</td>\n",
              "      <td>-1.620640</td>\n",
              "      <td>-1.115160</td>\n",
              "      <td>-0.802948</td>\n",
              "      <td>1.610382</td>\n",
              "      <td>-0.532801</td>\n",
              "      <td>-0.33763</td>\n",
              "      <td>10</td>\n",
              "      <td>2</td>\n",
              "      <td>2</td>\n",
              "      <td>1</td>\n",
              "      <td>2</td>\n",
              "      <td>Returning_Visitor</td>\n",
              "      <td>False</td>\n",
              "      <td>False</td>\n",
              "    </tr>\n",
              "    <tr>\n",
              "      <th>2</th>\n",
              "      <td>-0.998474</td>\n",
              "      <td>-1.005468</td>\n",
              "      <td>-0.523851</td>\n",
              "      <td>-0.494799</td>\n",
              "      <td>-1.976591</td>\n",
              "      <td>-2.168082</td>\n",
              "      <td>2.219446</td>\n",
              "      <td>2.011278</td>\n",
              "      <td>-0.532801</td>\n",
              "      <td>-0.33763</td>\n",
              "      <td>10</td>\n",
              "      <td>4</td>\n",
              "      <td>1</td>\n",
              "      <td>9</td>\n",
              "      <td>3</td>\n",
              "      <td>Returning_Visitor</td>\n",
              "      <td>False</td>\n",
              "      <td>False</td>\n",
              "    </tr>\n",
              "    <tr>\n",
              "      <th>3</th>\n",
              "      <td>-0.998474</td>\n",
              "      <td>-1.005468</td>\n",
              "      <td>-0.523851</td>\n",
              "      <td>-0.494799</td>\n",
              "      <td>-1.620640</td>\n",
              "      <td>-1.938936</td>\n",
              "      <td>1.772681</td>\n",
              "      <td>1.867073</td>\n",
              "      <td>-0.532801</td>\n",
              "      <td>-0.33763</td>\n",
              "      <td>10</td>\n",
              "      <td>3</td>\n",
              "      <td>2</td>\n",
              "      <td>2</td>\n",
              "      <td>4</td>\n",
              "      <td>Returning_Visitor</td>\n",
              "      <td>False</td>\n",
              "      <td>False</td>\n",
              "    </tr>\n",
              "    <tr>\n",
              "      <th>4</th>\n",
              "      <td>-0.998474</td>\n",
              "      <td>-1.005468</td>\n",
              "      <td>-0.523851</td>\n",
              "      <td>-0.494799</td>\n",
              "      <td>-0.466390</td>\n",
              "      <td>0.039282</td>\n",
              "      <td>0.827019</td>\n",
              "      <td>0.762250</td>\n",
              "      <td>-0.532801</td>\n",
              "      <td>-0.33763</td>\n",
              "      <td>10</td>\n",
              "      <td>3</td>\n",
              "      <td>3</td>\n",
              "      <td>1</td>\n",
              "      <td>4</td>\n",
              "      <td>Returning_Visitor</td>\n",
              "      <td>True</td>\n",
              "      <td>False</td>\n",
              "    </tr>\n",
              "    <tr>\n",
              "      <th>...</th>\n",
              "      <td>...</td>\n",
              "      <td>...</td>\n",
              "      <td>...</td>\n",
              "      <td>...</td>\n",
              "      <td>...</td>\n",
              "      <td>...</td>\n",
              "      <td>...</td>\n",
              "      <td>...</td>\n",
              "      <td>...</td>\n",
              "      <td>...</td>\n",
              "      <td>...</td>\n",
              "      <td>...</td>\n",
              "      <td>...</td>\n",
              "      <td>...</td>\n",
              "      <td>...</td>\n",
              "      <td>...</td>\n",
              "      <td>...</td>\n",
              "      <td>...</td>\n",
              "    </tr>\n",
              "    <tr>\n",
              "      <th>12200</th>\n",
              "      <td>0.834177</td>\n",
              "      <td>1.117196</td>\n",
              "      <td>-0.523851</td>\n",
              "      <td>-0.494799</td>\n",
              "      <td>0.975836</td>\n",
              "      <td>0.804599</td>\n",
              "      <td>-0.068325</td>\n",
              "      <td>0.018165</td>\n",
              "      <td>1.918193</td>\n",
              "      <td>-0.33763</td>\n",
              "      <td>4</td>\n",
              "      <td>4</td>\n",
              "      <td>6</td>\n",
              "      <td>1</td>\n",
              "      <td>1</td>\n",
              "      <td>Returning_Visitor</td>\n",
              "      <td>True</td>\n",
              "      <td>False</td>\n",
              "    </tr>\n",
              "    <tr>\n",
              "      <th>12201</th>\n",
              "      <td>-0.998474</td>\n",
              "      <td>-1.005468</td>\n",
              "      <td>-0.523851</td>\n",
              "      <td>-0.494799</td>\n",
              "      <td>-1.007465</td>\n",
              "      <td>-0.147834</td>\n",
              "      <td>-0.802948</td>\n",
              "      <td>-0.355710</td>\n",
              "      <td>-0.532801</td>\n",
              "      <td>-0.33763</td>\n",
              "      <td>2</td>\n",
              "      <td>3</td>\n",
              "      <td>2</td>\n",
              "      <td>1</td>\n",
              "      <td>8</td>\n",
              "      <td>Returning_Visitor</td>\n",
              "      <td>True</td>\n",
              "      <td>False</td>\n",
              "    </tr>\n",
              "    <tr>\n",
              "      <th>12202</th>\n",
              "      <td>-0.998474</td>\n",
              "      <td>-1.005468</td>\n",
              "      <td>-0.523851</td>\n",
              "      <td>-0.494799</td>\n",
              "      <td>-0.870293</td>\n",
              "      <td>-0.654912</td>\n",
              "      <td>2.089475</td>\n",
              "      <td>1.464595</td>\n",
              "      <td>-0.532801</td>\n",
              "      <td>-0.33763</td>\n",
              "      <td>2</td>\n",
              "      <td>3</td>\n",
              "      <td>2</td>\n",
              "      <td>1</td>\n",
              "      <td>13</td>\n",
              "      <td>Returning_Visitor</td>\n",
              "      <td>True</td>\n",
              "      <td>False</td>\n",
              "    </tr>\n",
              "    <tr>\n",
              "      <th>12203</th>\n",
              "      <td>1.028024</td>\n",
              "      <td>0.893985</td>\n",
              "      <td>-0.523851</td>\n",
              "      <td>-0.494799</td>\n",
              "      <td>-0.129623</td>\n",
              "      <td>-0.322180</td>\n",
              "      <td>-0.802948</td>\n",
              "      <td>-0.370615</td>\n",
              "      <td>-0.532801</td>\n",
              "      <td>-0.33763</td>\n",
              "      <td>2</td>\n",
              "      <td>2</td>\n",
              "      <td>2</td>\n",
              "      <td>3</td>\n",
              "      <td>11</td>\n",
              "      <td>Returning_Visitor</td>\n",
              "      <td>False</td>\n",
              "      <td>False</td>\n",
              "    </tr>\n",
              "    <tr>\n",
              "      <th>12204</th>\n",
              "      <td>-0.998474</td>\n",
              "      <td>-1.005468</td>\n",
              "      <td>-0.523851</td>\n",
              "      <td>-0.494799</td>\n",
              "      <td>-1.366868</td>\n",
              "      <td>-1.486050</td>\n",
              "      <td>-0.802948</td>\n",
              "      <td>1.150838</td>\n",
              "      <td>-0.532801</td>\n",
              "      <td>-0.33763</td>\n",
              "      <td>2</td>\n",
              "      <td>3</td>\n",
              "      <td>2</td>\n",
              "      <td>1</td>\n",
              "      <td>2</td>\n",
              "      <td>New_Visitor</td>\n",
              "      <td>True</td>\n",
              "      <td>False</td>\n",
              "    </tr>\n",
              "  </tbody>\n",
              "</table>\n",
              "<p>12205 rows × 18 columns</p>\n",
              "</div>\n",
              "      <button class=\"colab-df-convert\" onclick=\"convertToInteractive('df-f4a0d2d4-7b65-429e-a909-fd7784b4fcdc')\"\n",
              "              title=\"Convert this dataframe to an interactive table.\"\n",
              "              style=\"display:none;\">\n",
              "        \n",
              "  <svg xmlns=\"http://www.w3.org/2000/svg\" height=\"24px\"viewBox=\"0 0 24 24\"\n",
              "       width=\"24px\">\n",
              "    <path d=\"M0 0h24v24H0V0z\" fill=\"none\"/>\n",
              "    <path d=\"M18.56 5.44l.94 2.06.94-2.06 2.06-.94-2.06-.94-.94-2.06-.94 2.06-2.06.94zm-11 1L8.5 8.5l.94-2.06 2.06-.94-2.06-.94L8.5 2.5l-.94 2.06-2.06.94zm10 10l.94 2.06.94-2.06 2.06-.94-2.06-.94-.94-2.06-.94 2.06-2.06.94z\"/><path d=\"M17.41 7.96l-1.37-1.37c-.4-.4-.92-.59-1.43-.59-.52 0-1.04.2-1.43.59L10.3 9.45l-7.72 7.72c-.78.78-.78 2.05 0 2.83L4 21.41c.39.39.9.59 1.41.59.51 0 1.02-.2 1.41-.59l7.78-7.78 2.81-2.81c.8-.78.8-2.07 0-2.86zM5.41 20L4 18.59l7.72-7.72 1.47 1.35L5.41 20z\"/>\n",
              "  </svg>\n",
              "      </button>\n",
              "      \n",
              "  <style>\n",
              "    .colab-df-container {\n",
              "      display:flex;\n",
              "      flex-wrap:wrap;\n",
              "      gap: 12px;\n",
              "    }\n",
              "\n",
              "    .colab-df-convert {\n",
              "      background-color: #E8F0FE;\n",
              "      border: none;\n",
              "      border-radius: 50%;\n",
              "      cursor: pointer;\n",
              "      display: none;\n",
              "      fill: #1967D2;\n",
              "      height: 32px;\n",
              "      padding: 0 0 0 0;\n",
              "      width: 32px;\n",
              "    }\n",
              "\n",
              "    .colab-df-convert:hover {\n",
              "      background-color: #E2EBFA;\n",
              "      box-shadow: 0px 1px 2px rgba(60, 64, 67, 0.3), 0px 1px 3px 1px rgba(60, 64, 67, 0.15);\n",
              "      fill: #174EA6;\n",
              "    }\n",
              "\n",
              "    [theme=dark] .colab-df-convert {\n",
              "      background-color: #3B4455;\n",
              "      fill: #D2E3FC;\n",
              "    }\n",
              "\n",
              "    [theme=dark] .colab-df-convert:hover {\n",
              "      background-color: #434B5C;\n",
              "      box-shadow: 0px 1px 3px 1px rgba(0, 0, 0, 0.15);\n",
              "      filter: drop-shadow(0px 1px 2px rgba(0, 0, 0, 0.3));\n",
              "      fill: #FFFFFF;\n",
              "    }\n",
              "  </style>\n",
              "\n",
              "      <script>\n",
              "        const buttonEl =\n",
              "          document.querySelector('#df-f4a0d2d4-7b65-429e-a909-fd7784b4fcdc button.colab-df-convert');\n",
              "        buttonEl.style.display =\n",
              "          google.colab.kernel.accessAllowed ? 'block' : 'none';\n",
              "\n",
              "        async function convertToInteractive(key) {\n",
              "          const element = document.querySelector('#df-f4a0d2d4-7b65-429e-a909-fd7784b4fcdc');\n",
              "          const dataTable =\n",
              "            await google.colab.kernel.invokeFunction('convertToInteractive',\n",
              "                                                     [key], {});\n",
              "          if (!dataTable) return;\n",
              "\n",
              "          const docLinkHtml = 'Like what you see? Visit the ' +\n",
              "            '<a target=\"_blank\" href=https://colab.research.google.com/notebooks/data_table.ipynb>data table notebook</a>'\n",
              "            + ' to learn more about interactive tables.';\n",
              "          element.innerHTML = '';\n",
              "          dataTable['output_type'] = 'display_data';\n",
              "          await google.colab.output.renderOutput(dataTable, element);\n",
              "          const docLink = document.createElement('div');\n",
              "          docLink.innerHTML = docLinkHtml;\n",
              "          element.appendChild(docLink);\n",
              "        }\n",
              "      </script>\n",
              "    </div>\n",
              "  </div>\n",
              "  "
            ],
            "text/plain": [
              "       Administrative  Administrative_Duration  Informational  \\\n",
              "0           -0.998474                -1.005468      -0.523851   \n",
              "1           -0.998474                -1.005468      -0.523851   \n",
              "2           -0.998474                -1.005468      -0.523851   \n",
              "3           -0.998474                -1.005468      -0.523851   \n",
              "4           -0.998474                -1.005468      -0.523851   \n",
              "...               ...                      ...            ...   \n",
              "12200        0.834177                 1.117196      -0.523851   \n",
              "12201       -0.998474                -1.005468      -0.523851   \n",
              "12202       -0.998474                -1.005468      -0.523851   \n",
              "12203        1.028024                 0.893985      -0.523851   \n",
              "12204       -0.998474                -1.005468      -0.523851   \n",
              "\n",
              "       Informational_Duration  ProductRelated  ProductRelated_Duration  \\\n",
              "0                   -0.494799       -1.976591                -2.168082   \n",
              "1                   -0.494799       -1.620640                -1.115160   \n",
              "2                   -0.494799       -1.976591                -2.168082   \n",
              "3                   -0.494799       -1.620640                -1.938936   \n",
              "4                   -0.494799       -0.466390                 0.039282   \n",
              "...                       ...             ...                      ...   \n",
              "12200               -0.494799        0.975836                 0.804599   \n",
              "12201               -0.494799       -1.007465                -0.147834   \n",
              "12202               -0.494799       -0.870293                -0.654912   \n",
              "12203               -0.494799       -0.129623                -0.322180   \n",
              "12204               -0.494799       -1.366868                -1.486050   \n",
              "\n",
              "       BounceRates  ExitRates  PageValues  SpecialDay  Month  \\\n",
              "0         2.219446   2.011278   -0.532801    -0.33763     10   \n",
              "1        -0.802948   1.610382   -0.532801    -0.33763     10   \n",
              "2         2.219446   2.011278   -0.532801    -0.33763     10   \n",
              "3         1.772681   1.867073   -0.532801    -0.33763     10   \n",
              "4         0.827019   0.762250   -0.532801    -0.33763     10   \n",
              "...            ...        ...         ...         ...    ...   \n",
              "12200    -0.068325   0.018165    1.918193    -0.33763      4   \n",
              "12201    -0.802948  -0.355710   -0.532801    -0.33763      2   \n",
              "12202     2.089475   1.464595   -0.532801    -0.33763      2   \n",
              "12203    -0.802948  -0.370615   -0.532801    -0.33763      2   \n",
              "12204    -0.802948   1.150838   -0.532801    -0.33763      2   \n",
              "\n",
              "       OperatingSystems  Browser  Region  TrafficType        VisitorType  \\\n",
              "0                     1        1       1            1  Returning_Visitor   \n",
              "1                     2        2       1            2  Returning_Visitor   \n",
              "2                     4        1       9            3  Returning_Visitor   \n",
              "3                     3        2       2            4  Returning_Visitor   \n",
              "4                     3        3       1            4  Returning_Visitor   \n",
              "...                 ...      ...     ...          ...                ...   \n",
              "12200                 4        6       1            1  Returning_Visitor   \n",
              "12201                 3        2       1            8  Returning_Visitor   \n",
              "12202                 3        2       1           13  Returning_Visitor   \n",
              "12203                 2        2       3           11  Returning_Visitor   \n",
              "12204                 3        2       1            2        New_Visitor   \n",
              "\n",
              "       Weekend  Revenue  \n",
              "0        False    False  \n",
              "1        False    False  \n",
              "2        False    False  \n",
              "3        False    False  \n",
              "4         True    False  \n",
              "...        ...      ...  \n",
              "12200     True    False  \n",
              "12201     True    False  \n",
              "12202     True    False  \n",
              "12203    False    False  \n",
              "12204     True    False  \n",
              "\n",
              "[12205 rows x 18 columns]"
            ]
          },
          "execution_count": 20,
          "metadata": {},
          "output_type": "execute_result"
        }
      ],
      "source": [
        "df"
      ],
      "id": "8dc0c18e-7503-4875-8fe0-de23d77b53ab"
    },
    {
      "cell_type": "markdown",
      "metadata": {
        "id": "f8aa482c-f322-4c7b-9eb4-07a6e4f78099"
      },
      "source": [
        "### One Hot Encoding"
      ],
      "id": "f8aa482c-f322-4c7b-9eb4-07a6e4f78099"
    },
    {
      "cell_type": "code",
      "execution_count": null,
      "metadata": {
        "id": "235032c3-0964-42b1-a1f7-cfa6533283f4"
      },
      "outputs": [],
      "source": [
        "for cat in ['VisitorType', 'Weekend', 'Revenue']:\n",
        "    onehots = pd.get_dummies(df[cat], prefix=cat)\n",
        "    df = df.join(onehots)"
      ],
      "id": "235032c3-0964-42b1-a1f7-cfa6533283f4"
    },
    {
      "cell_type": "code",
      "execution_count": null,
      "metadata": {
        "id": "45b642c1-fb97-4e4a-9221-2be99eed9515"
      },
      "outputs": [],
      "source": [
        "# drop kolom yang tidak dibutuhkan\n",
        "\n",
        "df = df.drop(columns=['VisitorType', 'Weekend', 'Revenue', 'VisitorType_New_Visitor', 'Weekend_False', 'Revenue_False'])"
      ],
      "id": "45b642c1-fb97-4e4a-9221-2be99eed9515"
    },
    {
      "cell_type": "code",
      "execution_count": null,
      "metadata": {
        "colab": {
          "base_uri": "https://localhost:8080/"
        },
        "id": "6e56a5ea-044d-4328-9e2f-d4e583820dcc",
        "outputId": "b9acbed8-502e-4bda-8f57-4efef62b1399"
      },
      "outputs": [
        {
          "data": {
            "text/html": [
              "\n",
              "  <div id=\"df-aa0fb46a-ef4c-4e70-849d-15c1224b3ba9\">\n",
              "    <div class=\"colab-df-container\">\n",
              "      <div>\n",
              "<style scoped>\n",
              "    .dataframe tbody tr th:only-of-type {\n",
              "        vertical-align: middle;\n",
              "    }\n",
              "\n",
              "    .dataframe tbody tr th {\n",
              "        vertical-align: top;\n",
              "    }\n",
              "\n",
              "    .dataframe thead th {\n",
              "        text-align: right;\n",
              "    }\n",
              "</style>\n",
              "<table border=\"1\" class=\"dataframe\">\n",
              "  <thead>\n",
              "    <tr style=\"text-align: right;\">\n",
              "      <th></th>\n",
              "      <th>Administrative</th>\n",
              "      <th>Administrative_Duration</th>\n",
              "      <th>Informational</th>\n",
              "      <th>Informational_Duration</th>\n",
              "      <th>ProductRelated</th>\n",
              "      <th>ProductRelated_Duration</th>\n",
              "      <th>BounceRates</th>\n",
              "      <th>ExitRates</th>\n",
              "      <th>PageValues</th>\n",
              "      <th>SpecialDay</th>\n",
              "      <th>Month</th>\n",
              "      <th>OperatingSystems</th>\n",
              "      <th>Browser</th>\n",
              "      <th>Region</th>\n",
              "      <th>TrafficType</th>\n",
              "      <th>VisitorType_Returning_Visitor</th>\n",
              "      <th>Weekend_True</th>\n",
              "      <th>Revenue_True</th>\n",
              "    </tr>\n",
              "  </thead>\n",
              "  <tbody>\n",
              "    <tr>\n",
              "      <th>0</th>\n",
              "      <td>-0.998474</td>\n",
              "      <td>-1.005468</td>\n",
              "      <td>-0.523851</td>\n",
              "      <td>-0.494799</td>\n",
              "      <td>-1.976591</td>\n",
              "      <td>-2.168082</td>\n",
              "      <td>2.219446</td>\n",
              "      <td>2.011278</td>\n",
              "      <td>-0.532801</td>\n",
              "      <td>-0.33763</td>\n",
              "      <td>10</td>\n",
              "      <td>1</td>\n",
              "      <td>1</td>\n",
              "      <td>1</td>\n",
              "      <td>1</td>\n",
              "      <td>1</td>\n",
              "      <td>0</td>\n",
              "      <td>0</td>\n",
              "    </tr>\n",
              "    <tr>\n",
              "      <th>1</th>\n",
              "      <td>-0.998474</td>\n",
              "      <td>-1.005468</td>\n",
              "      <td>-0.523851</td>\n",
              "      <td>-0.494799</td>\n",
              "      <td>-1.620640</td>\n",
              "      <td>-1.115160</td>\n",
              "      <td>-0.802948</td>\n",
              "      <td>1.610382</td>\n",
              "      <td>-0.532801</td>\n",
              "      <td>-0.33763</td>\n",
              "      <td>10</td>\n",
              "      <td>2</td>\n",
              "      <td>2</td>\n",
              "      <td>1</td>\n",
              "      <td>2</td>\n",
              "      <td>1</td>\n",
              "      <td>0</td>\n",
              "      <td>0</td>\n",
              "    </tr>\n",
              "    <tr>\n",
              "      <th>2</th>\n",
              "      <td>-0.998474</td>\n",
              "      <td>-1.005468</td>\n",
              "      <td>-0.523851</td>\n",
              "      <td>-0.494799</td>\n",
              "      <td>-1.976591</td>\n",
              "      <td>-2.168082</td>\n",
              "      <td>2.219446</td>\n",
              "      <td>2.011278</td>\n",
              "      <td>-0.532801</td>\n",
              "      <td>-0.33763</td>\n",
              "      <td>10</td>\n",
              "      <td>4</td>\n",
              "      <td>1</td>\n",
              "      <td>9</td>\n",
              "      <td>3</td>\n",
              "      <td>1</td>\n",
              "      <td>0</td>\n",
              "      <td>0</td>\n",
              "    </tr>\n",
              "    <tr>\n",
              "      <th>3</th>\n",
              "      <td>-0.998474</td>\n",
              "      <td>-1.005468</td>\n",
              "      <td>-0.523851</td>\n",
              "      <td>-0.494799</td>\n",
              "      <td>-1.620640</td>\n",
              "      <td>-1.938936</td>\n",
              "      <td>1.772681</td>\n",
              "      <td>1.867073</td>\n",
              "      <td>-0.532801</td>\n",
              "      <td>-0.33763</td>\n",
              "      <td>10</td>\n",
              "      <td>3</td>\n",
              "      <td>2</td>\n",
              "      <td>2</td>\n",
              "      <td>4</td>\n",
              "      <td>1</td>\n",
              "      <td>0</td>\n",
              "      <td>0</td>\n",
              "    </tr>\n",
              "    <tr>\n",
              "      <th>4</th>\n",
              "      <td>-0.998474</td>\n",
              "      <td>-1.005468</td>\n",
              "      <td>-0.523851</td>\n",
              "      <td>-0.494799</td>\n",
              "      <td>-0.466390</td>\n",
              "      <td>0.039282</td>\n",
              "      <td>0.827019</td>\n",
              "      <td>0.762250</td>\n",
              "      <td>-0.532801</td>\n",
              "      <td>-0.33763</td>\n",
              "      <td>10</td>\n",
              "      <td>3</td>\n",
              "      <td>3</td>\n",
              "      <td>1</td>\n",
              "      <td>4</td>\n",
              "      <td>1</td>\n",
              "      <td>1</td>\n",
              "      <td>0</td>\n",
              "    </tr>\n",
              "    <tr>\n",
              "      <th>...</th>\n",
              "      <td>...</td>\n",
              "      <td>...</td>\n",
              "      <td>...</td>\n",
              "      <td>...</td>\n",
              "      <td>...</td>\n",
              "      <td>...</td>\n",
              "      <td>...</td>\n",
              "      <td>...</td>\n",
              "      <td>...</td>\n",
              "      <td>...</td>\n",
              "      <td>...</td>\n",
              "      <td>...</td>\n",
              "      <td>...</td>\n",
              "      <td>...</td>\n",
              "      <td>...</td>\n",
              "      <td>...</td>\n",
              "      <td>...</td>\n",
              "      <td>...</td>\n",
              "    </tr>\n",
              "    <tr>\n",
              "      <th>12200</th>\n",
              "      <td>0.834177</td>\n",
              "      <td>1.117196</td>\n",
              "      <td>-0.523851</td>\n",
              "      <td>-0.494799</td>\n",
              "      <td>0.975836</td>\n",
              "      <td>0.804599</td>\n",
              "      <td>-0.068325</td>\n",
              "      <td>0.018165</td>\n",
              "      <td>1.918193</td>\n",
              "      <td>-0.33763</td>\n",
              "      <td>4</td>\n",
              "      <td>4</td>\n",
              "      <td>6</td>\n",
              "      <td>1</td>\n",
              "      <td>1</td>\n",
              "      <td>1</td>\n",
              "      <td>1</td>\n",
              "      <td>0</td>\n",
              "    </tr>\n",
              "    <tr>\n",
              "      <th>12201</th>\n",
              "      <td>-0.998474</td>\n",
              "      <td>-1.005468</td>\n",
              "      <td>-0.523851</td>\n",
              "      <td>-0.494799</td>\n",
              "      <td>-1.007465</td>\n",
              "      <td>-0.147834</td>\n",
              "      <td>-0.802948</td>\n",
              "      <td>-0.355710</td>\n",
              "      <td>-0.532801</td>\n",
              "      <td>-0.33763</td>\n",
              "      <td>2</td>\n",
              "      <td>3</td>\n",
              "      <td>2</td>\n",
              "      <td>1</td>\n",
              "      <td>8</td>\n",
              "      <td>1</td>\n",
              "      <td>1</td>\n",
              "      <td>0</td>\n",
              "    </tr>\n",
              "    <tr>\n",
              "      <th>12202</th>\n",
              "      <td>-0.998474</td>\n",
              "      <td>-1.005468</td>\n",
              "      <td>-0.523851</td>\n",
              "      <td>-0.494799</td>\n",
              "      <td>-0.870293</td>\n",
              "      <td>-0.654912</td>\n",
              "      <td>2.089475</td>\n",
              "      <td>1.464595</td>\n",
              "      <td>-0.532801</td>\n",
              "      <td>-0.33763</td>\n",
              "      <td>2</td>\n",
              "      <td>3</td>\n",
              "      <td>2</td>\n",
              "      <td>1</td>\n",
              "      <td>13</td>\n",
              "      <td>1</td>\n",
              "      <td>1</td>\n",
              "      <td>0</td>\n",
              "    </tr>\n",
              "    <tr>\n",
              "      <th>12203</th>\n",
              "      <td>1.028024</td>\n",
              "      <td>0.893985</td>\n",
              "      <td>-0.523851</td>\n",
              "      <td>-0.494799</td>\n",
              "      <td>-0.129623</td>\n",
              "      <td>-0.322180</td>\n",
              "      <td>-0.802948</td>\n",
              "      <td>-0.370615</td>\n",
              "      <td>-0.532801</td>\n",
              "      <td>-0.33763</td>\n",
              "      <td>2</td>\n",
              "      <td>2</td>\n",
              "      <td>2</td>\n",
              "      <td>3</td>\n",
              "      <td>11</td>\n",
              "      <td>1</td>\n",
              "      <td>0</td>\n",
              "      <td>0</td>\n",
              "    </tr>\n",
              "    <tr>\n",
              "      <th>12204</th>\n",
              "      <td>-0.998474</td>\n",
              "      <td>-1.005468</td>\n",
              "      <td>-0.523851</td>\n",
              "      <td>-0.494799</td>\n",
              "      <td>-1.366868</td>\n",
              "      <td>-1.486050</td>\n",
              "      <td>-0.802948</td>\n",
              "      <td>1.150838</td>\n",
              "      <td>-0.532801</td>\n",
              "      <td>-0.33763</td>\n",
              "      <td>2</td>\n",
              "      <td>3</td>\n",
              "      <td>2</td>\n",
              "      <td>1</td>\n",
              "      <td>2</td>\n",
              "      <td>0</td>\n",
              "      <td>1</td>\n",
              "      <td>0</td>\n",
              "    </tr>\n",
              "  </tbody>\n",
              "</table>\n",
              "<p>12205 rows × 18 columns</p>\n",
              "</div>\n",
              "      <button class=\"colab-df-convert\" onclick=\"convertToInteractive('df-aa0fb46a-ef4c-4e70-849d-15c1224b3ba9')\"\n",
              "              title=\"Convert this dataframe to an interactive table.\"\n",
              "              style=\"display:none;\">\n",
              "        \n",
              "  <svg xmlns=\"http://www.w3.org/2000/svg\" height=\"24px\"viewBox=\"0 0 24 24\"\n",
              "       width=\"24px\">\n",
              "    <path d=\"M0 0h24v24H0V0z\" fill=\"none\"/>\n",
              "    <path d=\"M18.56 5.44l.94 2.06.94-2.06 2.06-.94-2.06-.94-.94-2.06-.94 2.06-2.06.94zm-11 1L8.5 8.5l.94-2.06 2.06-.94-2.06-.94L8.5 2.5l-.94 2.06-2.06.94zm10 10l.94 2.06.94-2.06 2.06-.94-2.06-.94-.94-2.06-.94 2.06-2.06.94z\"/><path d=\"M17.41 7.96l-1.37-1.37c-.4-.4-.92-.59-1.43-.59-.52 0-1.04.2-1.43.59L10.3 9.45l-7.72 7.72c-.78.78-.78 2.05 0 2.83L4 21.41c.39.39.9.59 1.41.59.51 0 1.02-.2 1.41-.59l7.78-7.78 2.81-2.81c.8-.78.8-2.07 0-2.86zM5.41 20L4 18.59l7.72-7.72 1.47 1.35L5.41 20z\"/>\n",
              "  </svg>\n",
              "      </button>\n",
              "      \n",
              "  <style>\n",
              "    .colab-df-container {\n",
              "      display:flex;\n",
              "      flex-wrap:wrap;\n",
              "      gap: 12px;\n",
              "    }\n",
              "\n",
              "    .colab-df-convert {\n",
              "      background-color: #E8F0FE;\n",
              "      border: none;\n",
              "      border-radius: 50%;\n",
              "      cursor: pointer;\n",
              "      display: none;\n",
              "      fill: #1967D2;\n",
              "      height: 32px;\n",
              "      padding: 0 0 0 0;\n",
              "      width: 32px;\n",
              "    }\n",
              "\n",
              "    .colab-df-convert:hover {\n",
              "      background-color: #E2EBFA;\n",
              "      box-shadow: 0px 1px 2px rgba(60, 64, 67, 0.3), 0px 1px 3px 1px rgba(60, 64, 67, 0.15);\n",
              "      fill: #174EA6;\n",
              "    }\n",
              "\n",
              "    [theme=dark] .colab-df-convert {\n",
              "      background-color: #3B4455;\n",
              "      fill: #D2E3FC;\n",
              "    }\n",
              "\n",
              "    [theme=dark] .colab-df-convert:hover {\n",
              "      background-color: #434B5C;\n",
              "      box-shadow: 0px 1px 3px 1px rgba(0, 0, 0, 0.15);\n",
              "      filter: drop-shadow(0px 1px 2px rgba(0, 0, 0, 0.3));\n",
              "      fill: #FFFFFF;\n",
              "    }\n",
              "  </style>\n",
              "\n",
              "      <script>\n",
              "        const buttonEl =\n",
              "          document.querySelector('#df-aa0fb46a-ef4c-4e70-849d-15c1224b3ba9 button.colab-df-convert');\n",
              "        buttonEl.style.display =\n",
              "          google.colab.kernel.accessAllowed ? 'block' : 'none';\n",
              "\n",
              "        async function convertToInteractive(key) {\n",
              "          const element = document.querySelector('#df-aa0fb46a-ef4c-4e70-849d-15c1224b3ba9');\n",
              "          const dataTable =\n",
              "            await google.colab.kernel.invokeFunction('convertToInteractive',\n",
              "                                                     [key], {});\n",
              "          if (!dataTable) return;\n",
              "\n",
              "          const docLinkHtml = 'Like what you see? Visit the ' +\n",
              "            '<a target=\"_blank\" href=https://colab.research.google.com/notebooks/data_table.ipynb>data table notebook</a>'\n",
              "            + ' to learn more about interactive tables.';\n",
              "          element.innerHTML = '';\n",
              "          dataTable['output_type'] = 'display_data';\n",
              "          await google.colab.output.renderOutput(dataTable, element);\n",
              "          const docLink = document.createElement('div');\n",
              "          docLink.innerHTML = docLinkHtml;\n",
              "          element.appendChild(docLink);\n",
              "        }\n",
              "      </script>\n",
              "    </div>\n",
              "  </div>\n",
              "  "
            ],
            "text/plain": [
              "       Administrative  Administrative_Duration  Informational  \\\n",
              "0           -0.998474                -1.005468      -0.523851   \n",
              "1           -0.998474                -1.005468      -0.523851   \n",
              "2           -0.998474                -1.005468      -0.523851   \n",
              "3           -0.998474                -1.005468      -0.523851   \n",
              "4           -0.998474                -1.005468      -0.523851   \n",
              "...               ...                      ...            ...   \n",
              "12200        0.834177                 1.117196      -0.523851   \n",
              "12201       -0.998474                -1.005468      -0.523851   \n",
              "12202       -0.998474                -1.005468      -0.523851   \n",
              "12203        1.028024                 0.893985      -0.523851   \n",
              "12204       -0.998474                -1.005468      -0.523851   \n",
              "\n",
              "       Informational_Duration  ProductRelated  ProductRelated_Duration  \\\n",
              "0                   -0.494799       -1.976591                -2.168082   \n",
              "1                   -0.494799       -1.620640                -1.115160   \n",
              "2                   -0.494799       -1.976591                -2.168082   \n",
              "3                   -0.494799       -1.620640                -1.938936   \n",
              "4                   -0.494799       -0.466390                 0.039282   \n",
              "...                       ...             ...                      ...   \n",
              "12200               -0.494799        0.975836                 0.804599   \n",
              "12201               -0.494799       -1.007465                -0.147834   \n",
              "12202               -0.494799       -0.870293                -0.654912   \n",
              "12203               -0.494799       -0.129623                -0.322180   \n",
              "12204               -0.494799       -1.366868                -1.486050   \n",
              "\n",
              "       BounceRates  ExitRates  PageValues  SpecialDay  Month  \\\n",
              "0         2.219446   2.011278   -0.532801    -0.33763     10   \n",
              "1        -0.802948   1.610382   -0.532801    -0.33763     10   \n",
              "2         2.219446   2.011278   -0.532801    -0.33763     10   \n",
              "3         1.772681   1.867073   -0.532801    -0.33763     10   \n",
              "4         0.827019   0.762250   -0.532801    -0.33763     10   \n",
              "...            ...        ...         ...         ...    ...   \n",
              "12200    -0.068325   0.018165    1.918193    -0.33763      4   \n",
              "12201    -0.802948  -0.355710   -0.532801    -0.33763      2   \n",
              "12202     2.089475   1.464595   -0.532801    -0.33763      2   \n",
              "12203    -0.802948  -0.370615   -0.532801    -0.33763      2   \n",
              "12204    -0.802948   1.150838   -0.532801    -0.33763      2   \n",
              "\n",
              "       OperatingSystems  Browser  Region  TrafficType  \\\n",
              "0                     1        1       1            1   \n",
              "1                     2        2       1            2   \n",
              "2                     4        1       9            3   \n",
              "3                     3        2       2            4   \n",
              "4                     3        3       1            4   \n",
              "...                 ...      ...     ...          ...   \n",
              "12200                 4        6       1            1   \n",
              "12201                 3        2       1            8   \n",
              "12202                 3        2       1           13   \n",
              "12203                 2        2       3           11   \n",
              "12204                 3        2       1            2   \n",
              "\n",
              "       VisitorType_Returning_Visitor  Weekend_True  Revenue_True  \n",
              "0                                  1             0             0  \n",
              "1                                  1             0             0  \n",
              "2                                  1             0             0  \n",
              "3                                  1             0             0  \n",
              "4                                  1             1             0  \n",
              "...                              ...           ...           ...  \n",
              "12200                              1             1             0  \n",
              "12201                              1             1             0  \n",
              "12202                              1             1             0  \n",
              "12203                              1             0             0  \n",
              "12204                              0             1             0  \n",
              "\n",
              "[12205 rows x 18 columns]"
            ]
          },
          "execution_count": 23,
          "metadata": {},
          "output_type": "execute_result"
        }
      ],
      "source": [
        "df"
      ],
      "id": "6e56a5ea-044d-4328-9e2f-d4e583820dcc"
    },
    {
      "cell_type": "code",
      "execution_count": null,
      "metadata": {
        "colab": {
          "base_uri": "https://localhost:8080/"
        },
        "id": "a1972dad-9ff1-4f7a-ba00-84cebbb2a4d9",
        "outputId": "86a691c7-b436-4bd7-8c38-57029d6b730d"
      },
      "outputs": [
        {
          "name": "stdout",
          "output_type": "stream",
          "text": [
            "<class 'pandas.core.frame.DataFrame'>\n",
            "RangeIndex: 12205 entries, 0 to 12204\n",
            "Data columns (total 18 columns):\n",
            " #   Column                         Non-Null Count  Dtype  \n",
            "---  ------                         --------------  -----  \n",
            " 0   Administrative                 12205 non-null  float64\n",
            " 1   Administrative_Duration        12205 non-null  float64\n",
            " 2   Informational                  12205 non-null  float64\n",
            " 3   Informational_Duration         12205 non-null  float64\n",
            " 4   ProductRelated                 12205 non-null  float64\n",
            " 5   ProductRelated_Duration        12205 non-null  float64\n",
            " 6   BounceRates                    12205 non-null  float64\n",
            " 7   ExitRates                      12205 non-null  float64\n",
            " 8   PageValues                     12205 non-null  float64\n",
            " 9   SpecialDay                     12205 non-null  float64\n",
            " 10  Month                          12205 non-null  int64  \n",
            " 11  OperatingSystems               12205 non-null  int64  \n",
            " 12  Browser                        12205 non-null  int64  \n",
            " 13  Region                         12205 non-null  int64  \n",
            " 14  TrafficType                    12205 non-null  int64  \n",
            " 15  VisitorType_Returning_Visitor  12205 non-null  uint8  \n",
            " 16  Weekend_True                   12205 non-null  uint8  \n",
            " 17  Revenue_True                   12205 non-null  uint8  \n",
            "dtypes: float64(10), int64(5), uint8(3)\n",
            "memory usage: 1.4 MB\n"
          ]
        }
      ],
      "source": [
        "df.info()"
      ],
      "id": "a1972dad-9ff1-4f7a-ba00-84cebbb2a4d9"
    },
    {
      "cell_type": "markdown",
      "metadata": {
        "id": "fc67f11a-7f65-4315-bc20-abe241f7aa4c"
      },
      "source": [
        "## Handle Class Imbalance"
      ],
      "id": "fc67f11a-7f65-4315-bc20-abe241f7aa4c"
    },
    {
      "cell_type": "code",
      "execution_count": null,
      "metadata": {
        "colab": {
          "base_uri": "https://localhost:8080/"
        },
        "id": "17b292fe-0189-4b33-85d6-029a4a3f5b05",
        "outputId": "1fc61dcb-be66-4d1c-85b5-2c5b9192aa29"
      },
      "outputs": [
        {
          "data": {
            "text/plain": [
              "False    10297\n",
              "True      1908\n",
              "Name: revenue, dtype: int64"
            ]
          },
          "execution_count": 25,
          "metadata": {},
          "output_type": "execute_result"
        }
      ],
      "source": [
        "# pembuatan binary label target\n",
        "df['revenue'] = df['Revenue_True'] == 1\n",
        "df['revenue'].value_counts()"
      ],
      "id": "17b292fe-0189-4b33-85d6-029a4a3f5b05"
    },
    {
      "cell_type": "code",
      "execution_count": null,
      "metadata": {
        "colab": {
          "base_uri": "https://localhost:8080/"
        },
        "id": "d2ee8a09-1d94-4d71-a00e-48b8b28a6b5c",
        "outputId": "55924ad1-daf4-4e28-f1a0-a02ddc793953"
      },
      "outputs": [
        {
          "name": "stdout",
          "output_type": "stream",
          "text": [
            "(12205, 17)\n",
            "(12205,)\n"
          ]
        }
      ],
      "source": [
        "# pemisahan features vs target\n",
        "X = df[[col for col in df.columns if (str(df[col].dtype) != 'object') and col not in ['revenue', 'Revenue_True']]]\n",
        "y = df['revenue'].values\n",
        "print(X.shape)\n",
        "print(y.shape)"
      ],
      "id": "d2ee8a09-1d94-4d71-a00e-48b8b28a6b5c"
    },
    {
      "cell_type": "markdown",
      "metadata": {
        "id": "00f6873f-0fd6-42ae-b4cf-c1a058e43a4d"
      },
      "source": [
        "## Feature Selection"
      ],
      "id": "00f6873f-0fd6-42ae-b4cf-c1a058e43a4d"
    },
    {
      "cell_type": "code",
      "execution_count": null,
      "metadata": {
        "colab": {
          "base_uri": "https://localhost:8080/"
        },
        "id": "4731a8e7-46c7-4361-b677-cc96c82dcb18",
        "outputId": "4c564692-ea11-45db-fa7b-afe34fb4fb58"
      },
      "outputs": [
        {
          "data": {
            "image/png": "[encoded data removed]",
            "text/plain": [
              "<Figure size 1080x1080 with 2 Axes>"
            ]
          },
          "metadata": {},
          "output_type": "display_data"
        }
      ],
      "source": [
        "corrmat = df.loc[:, df.columns != 'revenue'].corr()\n",
        "top_corr_features = corrmat.index \n",
        "\n",
        "plt.figure(figsize=(15,15)) \n",
        "g=sns.heatmap(df[top_corr_features].corr(),annot=True,cmap=\"RdYlGn\")"
      ],
      "id": "4731a8e7-46c7-4361-b677-cc96c82dcb18"
    },
    {
      "cell_type": "markdown",
      "metadata": {
        "id": "05f87d9a-76be-4420-a735-ed354b9386c1"
      },
      "source": [
        "Pada tahap feature selection ini fitur yang redundant adalah :\n",
        "- Administrative - Administrative_Duration <br>\n",
        "- Informational - Informational_Duration <br>\n",
        "- ProductRelated - ProductRelated_Duration <br>\n",
        "- BounceRates - ExitRates <br>\n",
        "\n",
        "- Administrative - Administrative_Duration <br>\n",
        "- Informational - Informational_Duration <br>\n",
        "- ProductRelated - ProductRelated_Duration <br>\n",
        "\n",
        "ketiganya akan dibuat feature extraction untuk mendapatkan durasi tiap page nya, sedangkan BounceRates - ExitRates, akan dipilih salah satu, yaitu ExitRates \n"
      ],
      "id": "05f87d9a-76be-4420-a735-ed354b9386c1"
    },
    {
      "cell_type": "markdown",
      "metadata": {
        "id": "d6371fcf-da30-4522-a46e-cc04ba880df6"
      },
      "source": [
        "## Feature Extraction"
      ],
      "id": "d6371fcf-da30-4522-a46e-cc04ba880df6"
    },
    {
      "cell_type": "code",
      "execution_count": null,
      "metadata": {
        "colab": {
          "base_uri": "https://localhost:8080/"
        },
        "id": "25a2550f-31f5-475c-8e0e-f7e18e524dff",
        "outputId": "1b6fe933-19d5-45bf-aefd-0e11bdeb01cd"
      },
      "outputs": [
        {
          "data": {
            "text/plain": [
              "Administrative                   0.164376\n",
              "Administrative_Duration          0.164306\n",
              "Informational                    0.110966\n",
              "Informational_Duration           0.107878\n",
              "ProductRelated                   0.196981\n",
              "ProductRelated_Duration          0.211123\n",
              "BounceRates                     -0.172585\n",
              "ExitRates                       -0.249863\n",
              "PageValues                       0.611599\n",
              "SpecialDay                      -0.088071\n",
              "VisitorType_Returning_Visitor   -0.102694\n",
              "Revenue_True                     1.000000\n",
              "Name: Revenue_True, dtype: float64"
            ]
          },
          "execution_count": 28,
          "metadata": {},
          "output_type": "execute_result"
        }
      ],
      "source": [
        "# memilih feature dengn korelasi tinggi dengan Revenue\n",
        "\n",
        "x = corrmat['Revenue_True'] \n",
        "result = x[(x>0.05)|(x<-0.05)] # korelasi lebih dari 0.1\n",
        "result"
      ],
      "id": "25a2550f-31f5-475c-8e0e-f7e18e524dff"
    },
    {
      "cell_type": "code",
      "execution_count": null,
      "metadata": {
        "id": "6cd2bc70-cc1f-415e-a6a8-fd57ef4fc5b6"
      },
      "outputs": [],
      "source": [
        "df['Duration per Page Administrative'] = df['Administrative'] / df['Administrative_Duration']\n",
        "df['Duration per Page Informational'] = df['Informational'] / df['Informational_Duration']\n",
        "df['Duration per Page ProductRelated'] = df['ProductRelated'] / df['ProductRelated_Duration']"
      ],
      "id": "6cd2bc70-cc1f-415e-a6a8-fd57ef4fc5b6"
    },
    {
      "cell_type": "markdown",
      "metadata": {
        "id": "42AtKNNliD-R"
      },
      "source": [
        "## Split Dataset"
      ],
      "id": "42AtKNNliD-R"
    },
    {
      "cell_type": "markdown",
      "metadata": {
        "id": "ae73c36c-768a-4a39-a6b9-08e02b6d370b"
      },
      "source": [
        "**Data yang dipilih**"
      ],
      "id": "ae73c36c-768a-4a39-a6b9-08e02b6d370b"
    },
    {
      "cell_type": "code",
      "execution_count": null,
      "metadata": {
        "id": "27b02bce-2e88-4bdd-895c-55bbdfcf7151"
      },
      "outputs": [],
      "source": [
        "df_selection=df[['Duration per Page Administrative','Duration per Page Informational','Duration per Page ProductRelated','ExitRates',\n",
        "              'PageValues','Revenue_True', 'VisitorType_Returning_Visitor', 'SpecialDay']]"
      ],
      "id": "27b02bce-2e88-4bdd-895c-55bbdfcf7151"
    },
    {
      "cell_type": "code",
      "execution_count": null,
      "metadata": {
        "colab": {
          "base_uri": "https://localhost:8080/"
        },
        "id": "ESWO90-W-lVm",
        "outputId": "4d86eea2-af9e-4394-e5e9-1df6c5aa408c"
      },
      "outputs": [
        {
          "output_type": "execute_result",
          "data": {
            "text/plain": [
              "Index(['Duration per Page Administrative', 'Duration per Page Informational',\n",
              "       'Duration per Page ProductRelated', 'ExitRates', 'PageValues',\n",
              "       'Revenue_True', 'VisitorType_Returning_Visitor', 'SpecialDay'],\n",
              "      dtype='object')"
            ]
          },
          "metadata": {},
          "execution_count": 51
        }
      ],
      "source": [
        "df_selection.columns"
      ],
      "id": "ESWO90-W-lVm"
    },
    {
      "cell_type": "code",
      "execution_count": null,
      "metadata": {
        "id": "86dc505b"
      },
      "outputs": [],
      "source": [
        "X = df_selection[['Duration per Page Administrative', 'Duration per Page Informational', 'Duration per Page ProductRelated', \n",
        "                  'ExitRates', 'PageValues', 'VisitorType_Returning_Visitor', 'SpecialDay']].copy()\n",
        "\n",
        "y = df_selection['Revenue_True'].copy()"
      ],
      "id": "86dc505b"
    },
    {
      "cell_type": "code",
      "execution_count": null,
      "metadata": {
        "id": "f80d7a28"
      },
      "outputs": [],
      "source": [
        "# Split terlebih dahulu sebelum di oversampling\n",
        "from sklearn.model_selection import train_test_split\n",
        "X_train, X_test,y_train, y_test = train_test_split(X, y, test_size = 0.3, random_state = 42)"
      ],
      "id": "f80d7a28"
    },
    {
      "cell_type": "code",
      "execution_count": null,
      "metadata": {
        "colab": {
          "base_uri": "https://localhost:8080/"
        },
        "id": "da4bca98-3e10-4886-bc30-92da650c718c",
        "outputId": "c6ed8b55-f18f-412f-9000-dda9cc7a2550"
      },
      "outputs": [
        {
          "output_type": "stream",
          "name": "stdout",
          "text": [
            "SMOTE\n",
            "0    7181\n",
            "1    3590\n",
            "Name: Revenue_True, dtype: int64\n"
          ]
        }
      ],
      "source": [
        "# Data Train Didapatkan oversampling dengan SMOTE\n",
        "from imblearn import under_sampling, over_sampling\n",
        "X_train, y_train = over_sampling.SMOTE(0.5).fit_resample(X_train, y_train)\n",
        "print('SMOTE')\n",
        "print(pd.Series(y_train).value_counts())"
      ],
      "id": "da4bca98-3e10-4886-bc30-92da650c718c"
    },
    {
      "cell_type": "markdown",
      "metadata": {
        "id": "KQ7nvyMVvWjm"
      },
      "source": [
        "# Modeling"
      ],
      "id": "KQ7nvyMVvWjm"
    },
    {
      "cell_type": "code",
      "execution_count": null,
      "metadata": {
        "id": "bUpFJcQVwXC5"
      },
      "outputs": [],
      "source": [
        "# Fungsi Matrix Modeling\n",
        "\n",
        "from sklearn.metrics import accuracy_score, precision_score, recall_score, f1_score, roc_auc_score\n",
        "from sklearn.model_selection import cross_validate\n",
        "\n",
        "def eval_classification(model):\n",
        "    y_pred = model.predict(X_test)\n",
        "    y_pred_train = model.predict(X_train)\n",
        "    y_pred_proba = model.predict_proba(X_test)\n",
        "    y_pred_proba_train = model.predict_proba(X_train)\n",
        "    \n",
        "    print(\"Accuracy (Test Set): %.2f\" % accuracy_score(y_test, y_pred))\n",
        "    print(\"Accuracy (Train Set): %.2f\" % accuracy_score(y_train, y_pred_train))\n",
        "    print(\"Precision (Test Set): %.2f\" % precision_score(y_test, y_pred))\n",
        "    print(\"Precision (Train Set): %.2f\" % precision_score(y_train, y_pred_train))\n",
        "    print(\"Recall (Test Set): %.2f\" % recall_score(y_test, y_pred))\n",
        "    print(\"Recall (Train Set): %.2f\" % recall_score(y_train, y_pred_train))\n",
        "    print(\"F1-Score (Test Set): %.2f\" % f1_score(y_test, y_pred))\n",
        "    print(\"F1-Score (Test Set): %.2f\" % f1_score(y_train, y_pred_train))\n",
        "    \n",
        "    print(\"roc_auc (test-proba): %.2f\" % roc_auc_score(y_test, y_pred_proba[:, 1]))\n",
        "    print(\"roc_auc (train-proba): %.2f\" % roc_auc_score(y_train, y_pred_proba_train[:, 1]))\n",
        "    \n",
        "    score = cross_validate(model, X_train, y_train, cv=5, scoring='roc_auc', return_train_score=True)\n",
        "    print('roc_auc (crossval train): '+ str(score['train_score'].mean()))\n",
        "    print('roc_auc (crossval test): '+ str(score['test_score'].mean()))\n",
        "\n",
        "def show_feature_importance(model):\n",
        "    feat_importances = pd.Series(model.feature_importances_, index=X.columns)\n",
        "    ax = feat_importances.nlargest(25).plot(kind='barh', figsize=(10, 8))\n",
        "    ax.invert_yaxis()\n",
        "\n",
        "    plt.xlabel('score')\n",
        "    plt.ylabel('feature')\n",
        "    plt.title('feature importance score')\n",
        "\n",
        "def show_best_hyperparameter(model):\n",
        "    print(model.best_estimator_.get_params())"
      ],
      "id": "bUpFJcQVwXC5"
    },
    {
      "cell_type": "markdown",
      "metadata": {
        "id": "RyPsg_JIviNH"
      },
      "source": [
        "## Logistic Regression"
      ],
      "id": "RyPsg_JIviNH"
    },
    {
      "cell_type": "code",
      "execution_count": null,
      "metadata": {
        "colab": {
          "base_uri": "https://localhost:8080/"
        },
        "id": "gsLJukO-vlfE",
        "outputId": "077ed884-ae01-4f47-e667-9f55bbe774d4"
      },
      "outputs": [
        {
          "output_type": "stream",
          "name": "stdout",
          "text": [
            "Accuracy (Test Set): 0.88\n",
            "Accuracy (Train Set): 0.86\n",
            "Precision (Test Set): 0.56\n",
            "Precision (Train Set): 0.79\n",
            "Recall (Test Set): 0.79\n",
            "Recall (Train Set): 0.80\n",
            "F1-Score (Test Set): 0.65\n",
            "F1-Score (Test Set): 0.79\n",
            "roc_auc (test-proba): 0.89\n",
            "roc_auc (train-proba): 0.89\n",
            "roc_auc (crossval train): 0.8933630373092669\n",
            "roc_auc (crossval test): 0.8929059738351525\n"
          ]
        }
      ],
      "source": [
        "#LOGISTIC REGRESSION\n",
        "\n",
        "from sklearn.linear_model import LogisticRegression \n",
        "logreg = LogisticRegression()\n",
        "logreg.fit(X_train, y_train) \n",
        "eval_classification(logreg)\n"
      ],
      "id": "gsLJukO-vlfE"
    },
    {
      "cell_type": "code",
      "execution_count": null,
      "metadata": {
        "colab": {
          "base_uri": "https://localhost:8080/"
        },
        "id": "v1H4c7Abz58Q",
        "outputId": "0f0c7dd8-0178-42be-b4c9-cd99718e6db9"
      },
      "outputs": [
        {
          "output_type": "stream",
          "name": "stdout",
          "text": [
            "Accuracy (Test Set): 0.88\n",
            "Accuracy (Train Set): 0.86\n",
            "Precision (Test Set): 0.56\n",
            "Precision (Train Set): 0.79\n",
            "Recall (Test Set): 0.79\n",
            "Recall (Train Set): 0.80\n",
            "F1-Score (Test Set): 0.65\n",
            "F1-Score (Test Set): 0.79\n",
            "roc_auc (test-proba): 0.89\n",
            "roc_auc (train-proba): 0.89\n",
            "roc_auc (crossval train): 0.8932846452616786\n",
            "roc_auc (crossval test): 0.8928285846858335\n"
          ]
        }
      ],
      "source": [
        "#HYPERPARAMETER\n",
        "\n",
        "from sklearn.model_selection import RandomizedSearchCV, GridSearchCV\n",
        "\n",
        "penalty = ['l1', 'l2']\n",
        "C = [float(x) for x in np.linspace(0.0001, 0.05, 100)]\n",
        "hyperparameters = dict(penalty=penalty, C=C)\n",
        "\n",
        "logreg = LogisticRegression()\n",
        "lr = RandomizedSearchCV(logreg, hyperparameters, scoring='roc_auc', random_state=42, cv=5, n_iter=50)\n",
        "lr.fit(X_train, y_train)\n",
        "eval_classification(lr)\n"
      ],
      "id": "v1H4c7Abz58Q"
    },
    {
      "cell_type": "code",
      "execution_count": null,
      "metadata": {
        "colab": {
          "base_uri": "https://localhost:8080/",
          "height": 1000
        },
        "id": "9M6vR_ATvVPB",
        "outputId": "1773f2d1-8ef1-4655-dfb7-73469f171051"
      },
      "outputs": [
        {
          "output_type": "stream",
          "name": "stdout",
          "text": [
            "param value: 0.0001; train: 0.8855598707359525; test: 0.8823853724367203\n",
            "param value: 0.0006040404040404041; train: 0.8878505798534433; test: 0.8849968495347186\n",
            "param value: 0.0011080808080808082; train: 0.888861526800645; test: 0.8859972398162386\n",
            "param value: 0.0016121212121212123; train: 0.8895778631245639; test: 0.8867913216436965\n",
            "param value: 0.002116161616161616; train: 0.8901363238412725; test: 0.8873103255324053\n",
            "param value: 0.0026202020202020205; train: 0.8905612303280981; test: 0.8878134595400321\n",
            "param value: 0.0031242424242424243; train: 0.8909184093431327; test: 0.8882278397682762\n",
            "param value: 0.003628282828282828; train: 0.8912186833174358; test: 0.8885264286419613\n",
            "param value: 0.004132323232323233; train: 0.8914557682587794; test: 0.8888044454475778\n",
            "param value: 0.004636363636363637; train: 0.8916535200635848; test: 0.8890325015164553\n",
            "param value: 0.0051404040404040416; train: 0.8918110077700399; test: 0.8892535043048521\n",
            "param value: 0.005644444444444445; train: 0.8919750509992517; test: 0.8894850870139703\n",
            "param value: 0.006148484848484849; train: 0.8921220653853271; test: 0.8896349692241862\n",
            "param value: 0.006652525252525254; train: 0.8922191569442575; test: 0.8897525238988654\n",
            "param value: 0.007156565656565657; train: 0.8923217566939062; test: 0.8898289344374068\n",
            "param value: 0.007660606060606061; train: 0.8923971646006426; test: 0.889949427978953\n",
            "param value: 0.008164646464646465; train: 0.8924672194769624; test: 0.8900475861323103\n",
            "param value: 0.008668686868686869; train: 0.8925359554907157; test: 0.8901404543253068\n",
            "param value: 0.009172727272727273; train: 0.8926057388365071; test: 0.8902103993567408\n",
            "param value: 0.009676767676767678; train: 0.8926605104230873; test: 0.8903067941899777\n",
            "param value: 0.010180808080808082; train: 0.8926978652657761; test: 0.8903732125811714\n",
            "param value: 0.010684848484848485; train: 0.8927526756424315; test: 0.8903902580090001\n",
            "param value: 0.011188888888888889; train: 0.8927922027293472; test: 0.8904607908138075\n",
            "param value: 0.011692929292929293; train: 0.8928245148622235; test: 0.8905042860434388\n",
            "param value: 0.012196969696969697; train: 0.892857486426383; test: 0.8905501323665637\n",
            "param value: 0.012701010101010102; train: 0.8928757565519346; test: 0.8905789332618601\n",
            "param value: 0.013205050505050506; train: 0.8929056637001309; test: 0.8906165507577576\n",
            "param value: 0.01370909090909091; train: 0.8929331658636475; test: 0.8906518171601612\n",
            "param value: 0.014213131313131313; train: 0.8929593103745221; test: 0.8906964879365392\n",
            "param value: 0.014717171717171717; train: 0.8929875495494728; test: 0.8907270521519558\n",
            "param value: 0.015221212121212122; train: 0.8930070221673645; test: 0.8907499753135183\n",
            "param value: 0.015725252525252528; train: 0.8930229260983119; test: 0.8907787762088147\n",
            "param value: 0.01622929292929293; train: 0.8930371232659382; test: 0.8908075771041112\n",
            "param value: 0.016733333333333333; train: 0.8930553158113391; test: 0.8908316758124204\n",
            "param value: 0.01723737373737374; train: 0.8930639272080959; test: 0.8908498967869957\n",
            "param value: 0.01774141414141414; train: 0.8930764564024765; test: 0.890856362294103\n",
            "param value: 0.018245454545454547; train: 0.8930838265168181; test: 0.8908493090136221\n",
            "param value: 0.01874949494949495; train: 0.8931039585659929; test: 0.8908569500674763\n",
            "param value: 0.019253535353535356; train: 0.8931138500352407; test: 0.8908810487757857\n",
            "param value: 0.01975757575757576; train: 0.8931215692602615; test: 0.8908957431101205\n",
            "param value: 0.020261616161616165; train: 0.893130374607396; test: 0.8909063230308416\n",
            "param value: 0.020765656565656567; train: 0.8931366585996239; test: 0.8909133763113224\n",
            "param value: 0.02126969696969697; train: 0.8931434080727578; test: 0.8909286584190306\n",
            "param value: 0.021773737373737376; train: 0.8931498860153632; test: 0.8909245440054169\n",
            "param value: 0.02227777777777778; train: 0.893160010225064; test: 0.8909398261131253\n",
            "param value: 0.022781818181818184; train: 0.8931687767821228; test: 0.8909445283001124\n",
            "param value: 0.023285858585858587; train: 0.8931726169995955; test: 0.8909398261131252\n",
            "param value: 0.023789898989898993; train: 0.8931773881788797; test: 0.8909404138864986\n",
            "param value: 0.024293939393939395; train: 0.8931815775070316; test: 0.8909427649799921\n",
            "param value: 0.024797979797979798; train: 0.8931933696899781; test: 0.8909545204474602\n",
            "param value: 0.025302020202020204; train: 0.893199576102055; test: 0.8909580470877005\n",
            "param value: 0.025806060606060607; train: 0.8932100494224352; test: 0.8909680392350482\n",
            "param value: 0.026310101010101013; train: 0.8932080711285856; test: 0.890966275914928\n",
            "param value: 0.026814141414141415; train: 0.8932141611704362; test: 0.8909733291954088\n",
            "param value: 0.02731818181818182; train: 0.89321687647572; test: 0.8909768558356491\n",
            "param value: 0.027822222222222224; train: 0.8932191263000979; test: 0.8909786191557694\n",
            "param value: 0.028326262626262626; train: 0.893223819899231; test: 0.8909850846628766\n",
            "param value: 0.028830303030303032; train: 0.8932295220403269; test: 0.8909915501699841\n",
            "param value: 0.029334343434343435; train: 0.8932317330746296; test: 0.8909950768102245\n",
            "param value: 0.02983838383838384; train: 0.8932374740058007; test: 0.8910068322776924\n",
            "param value: 0.030342424242424244; train: 0.8932396074599521; test: 0.8910062445043189\n",
            "param value: 0.03084646464646465; train: 0.8932411202728959; test: 0.8910074200510657\n",
            "param value: 0.03135050505050506; train: 0.893244999280444; test: 0.8910156488782934\n",
            "param value: 0.03185454545454546; train: 0.8932451156506707; test: 0.8910132977847995\n",
            "param value: 0.032358585858585864; train: 0.8932488394979168; test: 0.8910203510652805\n",
            "param value: 0.03286262626262627; train: 0.8932543864787107; test: 0.8910268165723878\n",
            "param value: 0.03336666666666667; train: 0.8932557441313524; test: 0.8910362209463621\n",
            "param value: 0.03387070707070708; train: 0.8932624160243354; test: 0.8910426864534695\n",
            "param value: 0.03437474747474748; train: 0.8932601274098819; test: 0.89104621309371\n",
            "param value: 0.034878787878787884; train: 0.8932623384441846; test: 0.891037396493109\n",
            "param value: 0.03538282828282829; train: 0.8932674199440724; test: 0.8910362209463623\n",
            "param value: 0.035886868686868696; train: 0.8932681181654311; test: 0.8910338698528686\n",
            "param value: 0.0363909090909091; train: 0.8932711437913186; test: 0.8910274043457612\n",
            "param value: 0.0368949494949495; train: 0.8932729669248664; test: 0.8910321065327484\n",
            "param value: 0.037398989898989904; train: 0.8932758373904519; test: 0.8910279921191346\n",
            "param value: 0.037903030303030306; train: 0.8932785526957356; test: 0.8910250532522678\n",
            "param value: 0.038407070707070716; train: 0.8932810740506419; test: 0.8910256410256412\n",
            "param value: 0.03891111111111112; train: 0.8932847978978882; test: 0.8910291676658814\n",
            "param value: 0.03941515151515152; train: 0.8932844487872089; test: 0.891037396493109\n",
            "param value: 0.039919191919191924; train: 0.8932857676497753; test: 0.8910385720398557\n",
            "param value: 0.04042323232323233; train: 0.8932883665848327; test: 0.8910397475866025\n",
            "param value: 0.040927272727272736; train: 0.8932902285084556; test: 0.8910456253203366\n",
            "param value: 0.04143131313131314; train: 0.8932903448786821; test: 0.8910350453996153\n",
            "param value: 0.04193535353535354; train: 0.8932902285084556; test: 0.891040335359976\n",
            "param value: 0.04243939393939394; train: 0.8932915085809465; test: 0.8910409231333494\n",
            "param value: 0.04294343434343435; train: 0.8932916637412485; test: 0.8910438620002163\n",
            "param value: 0.043447474747474756; train: 0.8932946893671361; test: 0.8910473886404566\n",
            "param value: 0.04395151515151516; train: 0.8932934092946451; test: 0.8910456253203365\n",
            "param value: 0.04445555555555556; train: 0.8932933705045697; test: 0.8910450375469631\n",
            "param value: 0.04495959595959596; train: 0.8932962797602307; test: 0.8910432742268429\n",
            "param value: 0.04546363636363637; train: 0.8932977537830991; test: 0.8910426864534695\n",
            "param value: 0.045967676767676775; train: 0.8932986847449107; test: 0.8910420986800962\n",
            "param value: 0.04647171717171718; train: 0.8933019431112512; test: 0.8910338698528686\n",
            "param value: 0.04697575757575758; train: 0.8933014000501943; test: 0.8910379842664824\n",
            "param value: 0.04747979797979799; train: 0.8933023310120058; test: 0.8910338698528687\n",
            "param value: 0.04798383838383839; train: 0.8933043093058555; test: 0.8910262287990144\n",
            "param value: 0.048487878787878795; train: 0.8933055505882708; test: 0.8910238777055209\n",
            "param value: 0.0489919191919192; train: 0.8933048523669123; test: 0.8910221143854007\n",
            "param value: 0.0494959595959596; train: 0.8933055117981954; test: 0.8910250532522677\n",
            "param value: 0.05; train: 0.8933072185615166; test: 0.8910215266120272\n"
          ]
        },
        {
          "output_type": "display_data",
          "data": {
            "text/plain": [
              "<Figure size 432x288 with 1 Axes>"
            ],
            "image/png": "[encoded data removed]"
          },
          "metadata": {
            "needs_background": "light"
          }
        }
      ],
      "source": [
        "import numpy as np\n",
        "from matplotlib import pyplot as plt\n",
        "from sklearn.linear_model import LogisticRegression\n",
        "from sklearn.neighbors import KNeighborsClassifier\n",
        "from sklearn.tree import DecisionTreeClassifier\n",
        "\n",
        "def draw_learning_curve(param_values):\n",
        "    train_scores = []\n",
        "    test_scores = []\n",
        "\n",
        "    for c in param_values:\n",
        "        model = LogisticRegression(penalty='l2', C=c)\n",
        "        model.fit(X_train, y_train)\n",
        "\n",
        "        # eval on train\n",
        "        y_pred_train_proba = model.predict_proba(X_train)\n",
        "        train_auc = roc_auc_score(y_train, y_pred_train_proba[:,1])\n",
        "        train_scores.append(train_auc)\n",
        "\n",
        "        # eval on test\n",
        "        y_pred_proba = model.predict_proba(X_test)\n",
        "        test_auc = roc_auc_score(y_test, y_pred_proba[:,1])\n",
        "        test_scores.append(test_auc)\n",
        "\n",
        "        print('param value: ' + str(c) + '; train: ' + str(train_auc) + '; test: '+ str(test_auc))\n",
        "\n",
        "    plt.plot(param_values, train_scores, label='Train')\n",
        "    plt.plot(param_values, test_scores, label='Test')\n",
        "    plt.xlabel('C')\n",
        "    plt.ylabel('AUC')\n",
        "    plt.title('Learning Curve - Hyperparameter C - Logistic Regression')\n",
        "    plt.legend()\n",
        "    plt.show()\n",
        "\n",
        "param_values = [float(x) for x in np.linspace(0.0001, 0.05, 100)]\n",
        "draw_learning_curve(param_values)"
      ],
      "id": "9M6vR_ATvVPB"
    },
    {
      "cell_type": "markdown",
      "metadata": {
        "id": "Zh4OAa1vvrBs"
      },
      "source": [
        "## KNN"
      ],
      "id": "Zh4OAa1vvrBs"
    },
    {
      "cell_type": "code",
      "execution_count": null,
      "metadata": {
        "colab": {
          "base_uri": "https://localhost:8080/"
        },
        "id": "htwDthn5vuBa",
        "outputId": "f0279cc9-59da-49cc-8e37-eddafd7f476f"
      },
      "outputs": [
        {
          "output_type": "stream",
          "name": "stdout",
          "text": [
            "Accuracy (Test Set): 0.85\n",
            "Accuracy (Train Set): 0.91\n",
            "Precision (Test Set): 0.50\n",
            "Precision (Train Set): 0.83\n",
            "Recall (Test Set): 0.71\n",
            "Recall (Train Set): 0.91\n",
            "F1-Score (Test Set): 0.58\n",
            "F1-Score (Test Set): 0.87\n",
            "roc_auc (test-proba): 0.85\n",
            "roc_auc (train-proba): 0.97\n",
            "roc_auc (crossval train): 0.9696310425524926\n",
            "roc_auc (crossval test): 0.9224634294170164\n"
          ]
        }
      ],
      "source": [
        "from sklearn.neighbors import KNeighborsClassifier\n",
        "knn = KNeighborsClassifier()\n",
        "knn.fit(X_train, y_train)\n",
        "eval_classification(knn)"
      ],
      "id": "htwDthn5vuBa"
    },
    {
      "cell_type": "code",
      "execution_count": null,
      "metadata": {
        "colab": {
          "base_uri": "https://localhost:8080/"
        },
        "id": "djewWFwdRY7n",
        "outputId": "b7c24bd0-0c02-4846-a005-1eaf0fd22543"
      },
      "outputs": [
        {
          "output_type": "stream",
          "name": "stdout",
          "text": [
            "Accuracy (Test Set): 0.86\n",
            "Accuracy (Train Set): 0.90\n",
            "Precision (Test Set): 0.53\n",
            "Precision (Train Set): 0.85\n",
            "Recall (Test Set): 0.67\n",
            "Recall (Train Set): 0.86\n",
            "F1-Score (Test Set): 0.60\n",
            "F1-Score (Test Set): 0.85\n",
            "roc_auc (test-proba): 0.86\n",
            "roc_auc (train-proba): 0.97\n",
            "roc_auc (crossval train): 0.9660694630241666\n",
            "roc_auc (crossval test): 0.9250215022654427\n"
          ]
        }
      ],
      "source": [
        "from sklearn.model_selection import RandomizedSearchCV\n",
        "\n",
        "n_neighbors = list(range(1,30))\n",
        "p=[1,2]\n",
        "algorithm = ['auto', 'ball_tree', 'kd_tree', 'brute']\n",
        "hyperparameters = dict(n_neighbors=n_neighbors, p=p, algorithm=algorithm)\n",
        "\n",
        "knn.fit(X_train, y_train)\n",
        "rs = RandomizedSearchCV(knn, hyperparameters, scoring='roc_auc', random_state=42, cv=5)\n",
        "rs.fit(X_train, y_train)\n",
        "eval_classification(rs)"
      ],
      "id": "djewWFwdRY7n"
    },
    {
      "cell_type": "code",
      "execution_count": null,
      "metadata": {
        "colab": {
          "base_uri": "https://localhost:8080/",
          "height": 1000
        },
        "id": "M9UYDwVcRnwP",
        "outputId": "8b6743a8-5074-44ef-967f-7f22a30a8173"
      },
      "outputs": [
        {
          "output_type": "stream",
          "name": "stdout",
          "text": [
            "param value: 100; train: 0.9080441888781872; test: 0.8903855558220127\n",
            "param value: 101; train: 0.9078621858440273; test: 0.8903661593006909\n",
            "param value: 102; train: 0.9077547955200566; test: 0.8906762097551574\n",
            "param value: 103; train: 0.9074494594409029; test: 0.8907114761575607\n",
            "param value: 104; train: 0.9073031432761864; test: 0.8909010330704811\n",
            "param value: 105; train: 0.9070699567374289; test: 0.8910341637395552\n",
            "param value: 106; train: 0.9067913276252444; test: 0.8912005036042263\n",
            "param value: 107; train: 0.9066468927791886; test: 0.8912040302444667\n",
            "param value: 108; train: 0.9064912476013187; test: 0.8915340649936285\n",
            "param value: 109; train: 0.9062773591251131; test: 0.8914059303982284\n",
            "param value: 110; train: 0.9062091855674543; test: 0.8913835950100392\n",
            "param value: 111; train: 0.9060946772646324; test: 0.8913603779617901\n",
            "param value: 112; train: 0.9058548770180052; test: 0.8913118866584848\n",
            "param value: 113; train: 0.905810074480824; test: 0.8911928625503722\n",
            "param value: 114; train: 0.9056105383325466; test: 0.8912204878989218\n",
            "param value: 115; train: 0.9053830927249601; test: 0.891378892823052\n",
            "param value: 116; train: 0.9051887350517596; test: 0.8913374548002276\n",
            "param value: 117; train: 0.9050158864754134; test: 0.8914744059962288\n",
            "param value: 118; train: 0.9049314210860524; test: 0.8913439203073349\n",
            "param value: 119; train: 0.9047844454900525; test: 0.8913580268682965\n",
            "param value: 120; train: 0.9046903989520473; test: 0.8916184104727108\n",
            "param value: 121; train: 0.9044361106122276; test: 0.8916410397475866\n",
            "param value: 122; train: 0.9043383402269762; test: 0.891632810920359\n",
            "param value: 123; train: 0.9043049807620621; test: 0.8915854951638007\n",
            "param value: 124; train: 0.9041297465960739; test: 0.8914614749820142\n",
            "param value: 125; train: 0.9039459010333288; test: 0.891725385226669\n",
            "param value: 126; train: 0.9039312383847967; test: 0.8916774816967371\n",
            "param value: 127; train: 0.9038163809712956; test: 0.8917674110228667\n",
            "param value: 128; train: 0.9036699096462771; test: 0.8917685865696136\n",
            "param value: 129; train: 0.9034924256559111; test: 0.8919819483041562\n",
            "param value: 130; train: 0.9033453142946472; test: 0.8922296947810426\n",
            "param value: 131; train: 0.9031493080432383; test: 0.8922402747017638\n",
            "param value: 132; train: 0.9030095086112027; test: 0.8923028725660306\n",
            "param value: 133; train: 0.9028321797811386; test: 0.8924195455806495\n",
            "param value: 134; train: 0.9026979079348592; test: 0.8921926650585186\n",
            "param value: 135; train: 0.9026956969005566; test: 0.8922823004979615\n",
            "param value: 136; train: 0.9025128598797741; test: 0.8923234446340994\n",
            "param value: 137; train: 0.902390147475988; test: 0.8924177822605295\n",
            "param value: 138; train: 0.902267725997768; test: 0.8925491496094834\n",
            "param value: 139; train: 0.9020586668859598; test: 0.8925103565668392\n",
            "param value: 140; train: 0.901931668178833; test: 0.892466861337208\n",
            "param value: 141; train: 0.90172342365861; test: 0.8926755208847633\n",
            "param value: 142; train: 0.9015588955534548; test: 0.8925588478701445\n",
            "param value: 143; train: 0.9014155080394372; test: 0.8927122567206008\n",
            "param value: 144; train: 0.901337539987719; test: 0.8925550273432173\n",
            "param value: 145; train: 0.9011997382445706; test: 0.8923481311157819\n",
            "param value: 146; train: 0.9011122860193974; test: 0.8923116891666314\n",
            "param value: 147; train: 0.9009385646663528; test: 0.8923372573083741\n",
            "param value: 148; train: 0.9008167250392654; test: 0.8922799494044681\n",
            "param value: 150; train: 0.9005633288711816; test: 0.8921662152567159\n"
          ]
        },
        {
          "output_type": "display_data",
          "data": {
            "text/plain": [
              "<Figure size 432x288 with 1 Axes>"
            ],
            "image/png": "[encoded data removed]"
          },
          "metadata": {
            "needs_background": "light"
          }
        }
      ],
      "source": [
        "# Analyzing Learning Curve\n",
        "import numpy as np\n",
        "from matplotlib import pyplot as plt\n",
        "from sklearn.neighbors import KNeighborsClassifier\n",
        "\n",
        "def draw_learning_curve(param_values):\n",
        "    train_scores = []\n",
        "    test_scores = []\n",
        "\n",
        "    for i in param_values:\n",
        "        model = KNeighborsClassifier(n_neighbors=i)\n",
        "        model.fit(X_train, y_train)\n",
        "\n",
        "        # eval on train\n",
        "        y_pred_train_proba = model.predict_proba(X_train)\n",
        "        train_auc = roc_auc_score(y_train, y_pred_train_proba[:,1])\n",
        "        train_scores.append(train_auc)\n",
        "\n",
        "        # eval on test\n",
        "        y_pred_proba = model.predict_proba(X_test)\n",
        "        test_auc = roc_auc_score(y_test, y_pred_proba[:,1])\n",
        "        test_scores.append(test_auc)\n",
        "\n",
        "        print('param value: ' + str(i) + '; train: ' + str(train_auc) + '; test: '+ str(test_auc))\n",
        "\n",
        "    plt.plot(param_values, train_scores, label='Train')\n",
        "    plt.plot(param_values, test_scores, label='Test')\n",
        "    plt.xlabel('k')\n",
        "    plt.ylabel('AUC')\n",
        "    plt.title('Learning Curve')\n",
        "    plt.legend()\n",
        "    plt.show()\n",
        "\n",
        "param_values = [int(x) for x in np.linspace(100, 150, 50)]\n",
        "draw_learning_curve(param_values)"
      ],
      "id": "M9UYDwVcRnwP"
    },
    {
      "cell_type": "markdown",
      "metadata": {
        "id": "pFjI78hrvm5L"
      },
      "source": [
        "## Decision Tree"
      ],
      "id": "pFjI78hrvm5L"
    },
    {
      "cell_type": "code",
      "execution_count": null,
      "metadata": {
        "colab": {
          "base_uri": "https://localhost:8080/"
        },
        "id": "m5xzAbmQvqVX",
        "outputId": "97f1bbe9-db0c-4c4e-ccf1-5a36ba291797"
      },
      "outputs": [
        {
          "output_type": "stream",
          "name": "stdout",
          "text": [
            "Accuracy (Test Set): 0.85\n",
            "Accuracy (Train Set): 1.00\n",
            "Precision (Test Set): 0.49\n",
            "Precision (Train Set): 1.00\n",
            "Recall (Test Set): 0.58\n",
            "Recall (Train Set): 1.00\n",
            "F1-Score (Test Set): 0.53\n",
            "F1-Score (Test Set): 1.00\n",
            "roc_auc (test-proba): 0.73\n",
            "roc_auc (train-proba): 1.00\n",
            "roc_auc (crossval train): 0.9999943331907017\n",
            "roc_auc (crossval test): 0.8284166910198059\n"
          ]
        }
      ],
      "source": [
        "# Fit Model Descision tree\n",
        "\n",
        "from sklearn.tree import DecisionTreeClassifier\n",
        "\n",
        "dt = DecisionTreeClassifier()\n",
        "dt.fit(X_train, y_train)\n",
        "eval_classification(dt)"
      ],
      "id": "m5xzAbmQvqVX"
    },
    {
      "cell_type": "code",
      "execution_count": null,
      "metadata": {
        "colab": {
          "base_uri": "https://localhost:8080/"
        },
        "id": "raKgpOlogslI",
        "outputId": "c7a0e70a-0b80-438f-dabc-38f5186502e6"
      },
      "outputs": [
        {
          "output_type": "stream",
          "name": "stdout",
          "text": [
            "Accuracy (Test Set): 0.87\n",
            "Accuracy (Train Set): 0.89\n",
            "Precision (Test Set): 0.54\n",
            "Precision (Train Set): 0.84\n",
            "Recall (Test Set): 0.71\n",
            "Recall (Train Set): 0.82\n",
            "F1-Score (Test Set): 0.61\n",
            "F1-Score (Test Set): 0.83\n",
            "roc_auc (test-proba): 0.87\n",
            "roc_auc (train-proba): 0.96\n",
            "roc_auc (crossval train): 0.9356278781025941\n",
            "roc_auc (crossval test): 0.8743299674705993\n"
          ]
        }
      ],
      "source": [
        "# Hyperparameter Tuning\n",
        "\n",
        "from sklearn.model_selection import RandomizedSearchCV, GridSearchCV\n",
        "from scipy.stats import uniform\n",
        "import numpy as np\n",
        "\n",
        "#list hyperparameters\n",
        "max_depth = [int(x) for x in np.linspace(1, 110, num = 30)]\n",
        "min_samples_split = [2,5,10,100]\n",
        "min_samples_leaf = [1,2,4,10,20,50]\n",
        "max_features = ['auto','sqrt']\n",
        "criterion = ['gini','entropy']\n",
        "splitter = ['best','random']\n",
        "\n",
        "hyperparameters = dict(max_depth=max_depth,\n",
        "                       min_samples_split=min_samples_split,\n",
        "                       min_samples_leaf=min_samples_leaf,\n",
        "                       max_features=max_features,\n",
        "                       criterion=criterion,\n",
        "                       splitter=splitter)\n",
        "\n",
        "dt = DecisionTreeClassifier(random_state=1)\n",
        "model = GridSearchCV(dt, hyperparameters, cv=5, scoring='precision')\n",
        "model.fit(X_train, y_train)\n",
        "\n",
        "y_pred = model.predict(X_test)\n",
        "eval_classification(model)"
      ],
      "id": "raKgpOlogslI"
    },
    {
      "cell_type": "code",
      "execution_count": null,
      "metadata": {
        "id": "NyfOsPxLoiSH",
        "colab": {
          "base_uri": "https://localhost:8080/",
          "height": 513
        },
        "outputId": "8f4ff282-70e6-487b-d64f-e292a9ec387b"
      },
      "outputs": [
        {
          "output_type": "display_data",
          "data": {
            "text/plain": [
              "<Figure size 720x576 with 1 Axes>"
            ],
            "image/png": "[encoded data removed]"
          },
          "metadata": {
            "needs_background": "light"
          }
        }
      ],
      "source": [
        "# feature importance\n",
        "\n",
        "show_feature_importance(model.best_estimator_)\n"
      ],
      "id": "NyfOsPxLoiSH"
    },
    {
      "cell_type": "markdown",
      "metadata": {
        "id": "7a87e86c"
      },
      "source": [
        "## Random Forest"
      ],
      "id": "7a87e86c"
    },
    {
      "cell_type": "code",
      "execution_count": null,
      "metadata": {
        "colab": {
          "base_uri": "https://localhost:8080/"
        },
        "id": "a4ed301f",
        "outputId": "85784888-a519-4bdb-ebb6-ebb1c022ac8f"
      },
      "outputs": [
        {
          "output_type": "stream",
          "name": "stdout",
          "text": [
            "Accuracy (Test Set): 0.87\n",
            "Accuracy (Train Set): 1.00\n",
            "Precision (Test Set): 0.56\n",
            "Precision (Train Set): 1.00\n",
            "Recall (Test Set): 0.69\n",
            "Recall (Train Set): 1.00\n",
            "F1-Score (Test Set): 0.62\n",
            "F1-Score (Test Set): 1.00\n",
            "roc_auc (test-proba): 0.89\n",
            "roc_auc (train-proba): 1.00\n",
            "roc_auc (crossval train): 0.9997535733923062\n",
            "roc_auc (crossval test): 0.948437338731828\n"
          ]
        }
      ],
      "source": [
        "# Fit Model Random Forest\n",
        "\n",
        "from sklearn.ensemble import RandomForestClassifier\n",
        "\n",
        "rf = RandomForestClassifier(random_state=42)\n",
        "rf.fit(X_train, y_train)\n",
        "eval_classification(rf)"
      ],
      "id": "a4ed301f"
    },
    {
      "cell_type": "markdown",
      "metadata": {
        "id": "c2009133"
      },
      "source": [
        "Masih terlalu overfitting"
      ],
      "id": "c2009133"
    },
    {
      "cell_type": "code",
      "execution_count": null,
      "metadata": {
        "colab": {
          "base_uri": "https://localhost:8080/"
        },
        "id": "26757337",
        "outputId": "6c7477eb-da5f-4bb1-ef9b-1f318c64c5e6"
      },
      "outputs": [
        {
          "output_type": "stream",
          "name": "stdout",
          "text": [
            "Accuracy (Test Set): 0.87\n",
            "Accuracy (Train Set): 0.86\n",
            "Precision (Test Set): 0.55\n",
            "Precision (Train Set): 0.78\n",
            "Recall (Test Set): 0.81\n",
            "Recall (Train Set): 0.81\n",
            "F1-Score (Test Set): 0.65\n",
            "F1-Score (Test Set): 0.80\n",
            "roc_auc (test-proba): 0.90\n",
            "roc_auc (train-proba): 0.91\n",
            "roc_auc (crossval train): 0.9081274102598129\n",
            "roc_auc (crossval test): 0.905417912083853\n"
          ]
        }
      ],
      "source": [
        "# tuning hyperparameter RF + oversampling\n",
        "from sklearn.model_selection import RandomizedSearchCV, GridSearchCV\n",
        "\n",
        "n_estimators = [int(x) for x in np.linspace(125, 200, 15)]\n",
        "criterion = ['gini', 'entropy']\n",
        "max_depth = [int(x) for x in np.arange(3, 5)]\n",
        "min_samples_split = [int(x) for x in np.linspace(1000, 1200 ,20)]\n",
        "min_samples_leaf = [int(x) for x in np.linspace(200, 300, 20)] # min_samples_leaf\n",
        "hyperparameters = dict(n_estimators=n_estimators, criterion=criterion, max_depth=max_depth,\n",
        "                       min_samples_split=min_samples_split, min_samples_leaf=min_samples_leaf)\n",
        "\n",
        "rf = RandomForestClassifier(random_state=42)\n",
        "rs = RandomizedSearchCV(rf, hyperparameters, cv=5, scoring = 'roc_auc')\n",
        "rs.fit(X_train, y_train)\n",
        "eval_classification(rs)"
      ],
      "id": "26757337"
    },
    {
      "cell_type": "code",
      "execution_count": null,
      "metadata": {
        "id": "e169d507",
        "colab": {
          "base_uri": "https://localhost:8080/",
          "height": 513
        },
        "outputId": "5353fe84-cc3d-4f88-d66c-a703c92cef31"
      },
      "outputs": [
        {
          "output_type": "display_data",
          "data": {
            "text/plain": [
              "<Figure size 720x576 with 1 Axes>"
            ],
            "image/png": "[encoded data removed]"
          },
          "metadata": {
            "needs_background": "light"
          }
        }
      ],
      "source": [
        "show_feature_importance(rs.best_estimator_)"
      ],
      "id": "e169d507"
    },
    {
      "cell_type": "code",
      "execution_count": null,
      "metadata": {
        "id": "591b65d0",
        "scrolled": false,
        "colab": {
          "base_uri": "https://localhost:8080/",
          "height": 539
        },
        "outputId": "4268f62e-f908-4b57-ee09-2c730d76ec4c"
      },
      "outputs": [
        {
          "output_type": "stream",
          "name": "stdout",
          "text": [
            "param value: 125; train: 0.9087610100780495; test: 0.8945546323595105\n",
            "param value: 130; train: 0.9097388690908654; test: 0.8957375262734698\n",
            "param value: 135; train: 0.910595974598707; test: 0.8962012794650792\n",
            "param value: 141; train: 0.9105669790172845; test: 0.8953448936600413\n",
            "param value: 146; train: 0.9113505191469752; test: 0.8968219681473852\n",
            "param value: 151; train: 0.9099680796468862; test: 0.8951471079198935\n",
            "param value: 157; train: 0.9098196688180936; test: 0.8956499480408338\n",
            "param value: 162; train: 0.9083462471959625; test: 0.8932065741276268\n",
            "param value: 167; train: 0.909104127690722; test: 0.8930308298889813\n",
            "param value: 173; train: 0.9071840383494202; test: 0.8925559090032774\n",
            "param value: 178; train: 0.9090311829537789; test: 0.8946954040824387\n",
            "param value: 183; train: 0.9109956869315071; test: 0.8975137774078723\n",
            "param value: 189; train: 0.9097418753217152; test: 0.8949372728255912\n",
            "param value: 194; train: 0.9108042191189301; test: 0.8969236529409829\n",
            "param value: 200; train: 0.9106165721287877; test: 0.8970700085109585\n"
          ]
        },
        {
          "output_type": "display_data",
          "data": {
            "text/plain": [
              "<Figure size 432x288 with 1 Axes>"
            ],
            "image/png": "[encoded data removed]"
          },
          "metadata": {
            "needs_background": "light"
          }
        }
      ],
      "source": [
        "#learning curve\n",
        "# param_values = [int(x) for x in np.linspace(1, 200, 50)] # n_estimators\n",
        "# param_values = [int(x) for x in np.linspace(2, 100, 50)] # max_depth\n",
        "# param_values = [int(x) for x in np.linspace(2, 20, 15)] # min_samples_split\n",
        "param_values = [int(x) for x in np.linspace(125, 200, 15)] # n_estimators\n",
        "\n",
        "train_scores = []\n",
        "test_scores = []\n",
        "\n",
        "for c in param_values:\n",
        "    model = RandomForestClassifier(n_estimators = c, max_depth=3)\n",
        "    model.fit(X_train, y_train)\n",
        "\n",
        "    # eval on train\n",
        "    y_pred_train_proba = model.predict_proba(X_train)\n",
        "    train_auc = roc_auc_score(y_train, y_pred_train_proba[:,1])\n",
        "    train_scores.append(train_auc)\n",
        "\n",
        "    # eval on test\n",
        "    y_pred_proba = model.predict_proba(X_test)\n",
        "    test_auc = roc_auc_score(y_test, y_pred_proba[:,1])\n",
        "    test_scores.append(test_auc)\n",
        "\n",
        "    print('param value: ' + str(c) + '; train: ' + str(train_auc) + '; test: '+ str(test_auc))\n",
        "\n",
        "plt.plot(param_values, train_scores, label='Train')\n",
        "plt.plot(param_values, test_scores, label='Test')\n",
        "plt.legend()\n",
        "plt.show()"
      ],
      "id": "591b65d0"
    },
    {
      "cell_type": "markdown",
      "metadata": {
        "id": "6gqCNJB6v1s3"
      },
      "source": [
        "## AdaBoost"
      ],
      "id": "6gqCNJB6v1s3"
    },
    {
      "cell_type": "code",
      "execution_count": null,
      "metadata": {
        "id": "LAQPHQnEv6En",
        "colab": {
          "base_uri": "https://localhost:8080/"
        },
        "outputId": "cf1c8f0a-1756-4a31-b2b8-7f1d009c8493"
      },
      "outputs": [
        {
          "output_type": "stream",
          "name": "stdout",
          "text": [
            "Accuracy (Test Set): 0.88\n",
            "Accuracy (Train Set): 0.86\n",
            "Precision (Test Set): 0.56\n",
            "Precision (Train Set): 0.80\n",
            "Recall (Test Set): 0.76\n",
            "Recall (Train Set): 0.80\n",
            "F1-Score (Test Set): 0.65\n",
            "F1-Score (Test Set): 0.80\n",
            "roc_auc (test-proba): 0.89\n",
            "roc_auc (train-proba): 0.92\n",
            "roc_auc (crossval train): 0.9211017190847766\n",
            "roc_auc (crossval test): 0.9134578780351921\n"
          ]
        }
      ],
      "source": [
        "# Fit Model Adabost\n",
        "\n",
        "from sklearn.ensemble import AdaBoostClassifier\n",
        "ada = AdaBoostClassifier()\n",
        "ada.fit(X_train, y_train)\n",
        "eval_classification(ada)"
      ],
      "id": "LAQPHQnEv6En"
    },
    {
      "cell_type": "code",
      "execution_count": null,
      "metadata": {
        "id": "EBBEm8NDv48w",
        "colab": {
          "base_uri": "https://localhost:8080/"
        },
        "outputId": "abe58d5a-6923-447f-952a-3b298e822d78"
      },
      "outputs": [
        {
          "output_type": "stream",
          "name": "stdout",
          "text": [
            "Accuracy (Test Set): 0.87\n",
            "Accuracy (Train Set): 0.86\n",
            "Precision (Test Set): 0.54\n",
            "Precision (Train Set): 0.78\n",
            "Recall (Test Set): 0.81\n",
            "Recall (Train Set): 0.81\n",
            "F1-Score (Test Set): 0.65\n",
            "F1-Score (Test Set): 0.80\n",
            "roc_auc (test-proba): 0.88\n",
            "roc_auc (train-proba): 0.89\n",
            "roc_auc (crossval train): 0.8908884396783057\n",
            "roc_auc (crossval test): 0.8883003395071383\n"
          ]
        }
      ],
      "source": [
        "# Hyperparameter tuning\n",
        "\n",
        "from sklearn.model_selection import RandomizedSearchCV, GridSearchCV\n",
        "import numpy as np\n",
        "\n",
        "# List of hyperparameter\n",
        "hyperparameters = dict(n_estimators = [int(x) for x in np.linspace(start = 50, stop = 2000, num = 2000)], # Jumlah iterasi\n",
        "                       learning_rate = [float(x) for x in np.linspace(start = 0.001, stop = 0.1, num = 200)],  \n",
        "                       algorithm = ['SAMME', 'SAMME.R']\n",
        "                      )\n",
        "\n",
        "# Init model\n",
        "ada = AdaBoostClassifier(random_state=42)\n",
        "ada_tuned = RandomizedSearchCV(ada, hyperparameters, random_state=42, cv=5, scoring='recall')\n",
        "ada_tuned.fit(X_train,y_train)\n",
        "\n",
        "# Predict & Evaluation\n",
        "eval_classification(ada_tuned)"
      ],
      "id": "EBBEm8NDv48w"
    },
    {
      "cell_type": "code",
      "execution_count": null,
      "metadata": {
        "id": "jS4T4vSMBZNK",
        "colab": {
          "base_uri": "https://localhost:8080/",
          "height": 513
        },
        "outputId": "7e2770b8-9732-4dd7-832e-f720d1635044"
      },
      "outputs": [
        {
          "output_type": "display_data",
          "data": {
            "text/plain": [
              "<Figure size 720x576 with 1 Axes>"
            ],
            "image/png": "[encoded data removed]"
          },
          "metadata": {
            "needs_background": "light"
          }
        }
      ],
      "source": [
        "show_feature_importance(ada_tuned.best_estimator_)"
      ],
      "id": "jS4T4vSMBZNK"
    },
    {
      "cell_type": "markdown",
      "metadata": {
        "id": "rtj4AKvso_ri"
      },
      "source": [
        "## XgBoost"
      ],
      "id": "rtj4AKvso_ri"
    },
    {
      "cell_type": "code",
      "execution_count": null,
      "metadata": {
        "id": "dASJpiTPpEvC",
        "colab": {
          "base_uri": "https://localhost:8080/"
        },
        "outputId": "306628e7-86b7-4dfb-ca81-ed1aab863803"
      },
      "outputs": [
        {
          "output_type": "stream",
          "name": "stdout",
          "text": [
            "Accuracy (Test Set): 0.88\n",
            "Accuracy (Train Set): 0.88\n",
            "Precision (Test Set): 0.56\n",
            "Precision (Train Set): 0.82\n",
            "Recall (Test Set): 0.77\n",
            "Recall (Train Set): 0.83\n",
            "F1-Score (Test Set): 0.65\n",
            "F1-Score (Test Set): 0.82\n",
            "roc_auc (test-proba): 0.90\n",
            "roc_auc (train-proba): 0.93\n",
            "roc_auc (crossval train): 0.9355801679538545\n",
            "roc_auc (crossval test): 0.9230180435770354\n"
          ]
        }
      ],
      "source": [
        "# Fit Model XgBoost\n",
        "\n",
        "from xgboost import XGBClassifier\n",
        "\n",
        "xg = XGBClassifier()\n",
        "xg.fit(X_train, y_train)\n",
        "eval_classification(xg)"
      ],
      "id": "dASJpiTPpEvC"
    },
    {
      "cell_type": "code",
      "execution_count": null,
      "metadata": {
        "id": "CbphiWRkpWb5",
        "colab": {
          "base_uri": "https://localhost:8080/"
        },
        "outputId": "901bc4f4-4d69-450f-a789-a31d95c3b1eb"
      },
      "outputs": [
        {
          "output_type": "stream",
          "name": "stdout",
          "text": [
            "Accuracy (Test Set): 0.88\n",
            "Accuracy (Train Set): 0.99\n",
            "Precision (Test Set): 0.58\n",
            "Precision (Train Set): 1.00\n",
            "Recall (Test Set): 0.66\n",
            "Recall (Train Set): 0.98\n",
            "F1-Score (Test Set): 0.61\n",
            "F1-Score (Test Set): 0.99\n",
            "roc_auc (test-proba): 0.88\n",
            "roc_auc (train-proba): 1.00\n",
            "roc_auc (crossval train): 0.9988819023387032\n",
            "roc_auc (crossval test): 0.9475728219334482\n"
          ]
        }
      ],
      "source": [
        "# Hiperparameter tuning\n",
        "\n",
        "from sklearn.model_selection import RandomizedSearchCV, GridSearchCV\n",
        "import numpy as np\n",
        "\n",
        "#Menjadikan ke dalam bentuk dictionary\n",
        "hyperparameters = {\n",
        "                    'max_depth' : [int(x) for x in np.linspace(10, 110, num = 11)],\n",
        "                    'min_child_weight' : [int(x) for x in np.linspace(1, 20, num = 11)],\n",
        "                    'gamma' : [float(x) for x in np.linspace(0, 1, num = 11)],\n",
        "                    'tree_method' : ['auto', 'exact', 'approx', 'hist'],\n",
        "\n",
        "                    'colsample_bytree' : [float(x) for x in np.linspace(0, 1, num = 11)],\n",
        "                    'eta' : [float(x) for x in np.linspace(0, 1, num = 100)],\n",
        "\n",
        "                    'lambda' : [float(x) for x in np.linspace(0, 1, num = 11)],\n",
        "                    'alpha' : [float(x) for x in np.linspace(0, 1, num = 11)]\n",
        "                    }\n",
        "\n",
        "# Init\n",
        "from xgboost import XGBClassifier\n",
        "xg = XGBClassifier(random_state=42)\n",
        "xg_tuned = RandomizedSearchCV(xg, hyperparameters, cv=5, random_state=42, scoring='recall')\n",
        "xg_tuned.fit(X_train,y_train)\n",
        "\n",
        "# Predict & Evaluation\n",
        "eval_classification(xg_tuned)"
      ],
      "id": "CbphiWRkpWb5"
    },
    {
      "cell_type": "code",
      "execution_count": null,
      "metadata": {
        "id": "aIliySJdpeo2",
        "colab": {
          "base_uri": "https://localhost:8080/",
          "height": 513
        },
        "outputId": "fd753054-0995-4b0a-feed-8126c857afa0"
      },
      "outputs": [
        {
          "output_type": "display_data",
          "data": {
            "text/plain": [
              "<Figure size 720x576 with 1 Axes>"
            ],
            "image/png": "[encoded data removed]"
          },
          "metadata": {
            "needs_background": "light"
          }
        }
      ],
      "source": [
        "show_feature_importance(xg_tuned.best_estimator_)"
      ],
      "id": "aIliySJdpeo2"
    },
    {
      "cell_type": "markdown",
      "source": [
        "## Shap Value Model Random Forest"
      ],
      "metadata": {
        "id": "D0tqngUeabBG"
      },
      "id": "D0tqngUeabBG"
    },
    {
      "cell_type": "code",
      "source": [
        "!pip install shap"
      ],
      "metadata": {
        "colab": {
          "base_uri": "https://localhost:8080/"
        },
        "id": "fa190A8aadBi",
        "outputId": "c6b9f219-b0ee-4213-f881-9662467551f9"
      },
      "id": "fa190A8aadBi",
      "execution_count": null,
      "outputs": [
        {
          "output_type": "stream",
          "name": "stdout",
          "text": [
            "Looking in indexes: https://pypi.org/simple, https://us-python.pkg.dev/colab-wheels/public/simple/\n",
            "Collecting shap\n",
            "  Downloading shap-0.41.0-cp37-cp37m-manylinux_2_12_x86_64.manylinux2010_x86_64.whl (569 kB)\n",
            "\u001b[K     |████████████████████████████████| 569 kB 12.0 MB/s \n",
            "\u001b[?25hCollecting slicer==0.0.7\n",
            "  Downloading slicer-0.0.7-py3-none-any.whl (14 kB)\n",
            "Requirement already satisfied: cloudpickle in /usr/local/lib/python3.7/dist-packages (from shap) (1.5.0)\n",
            "Requirement already satisfied: scikit-learn in /usr/local/lib/python3.7/dist-packages (from shap) (1.0.2)\n",
            "Requirement already satisfied: scipy in /usr/local/lib/python3.7/dist-packages (from shap) (1.7.3)\n",
            "Requirement already satisfied: tqdm>4.25.0 in /usr/local/lib/python3.7/dist-packages (from shap) (4.64.1)\n",
            "Requirement already satisfied: numba in /usr/local/lib/python3.7/dist-packages (from shap) (0.56.4)\n",
            "Requirement already satisfied: numpy in /usr/local/lib/python3.7/dist-packages (from shap) (1.21.6)\n",
            "Requirement already satisfied: pandas in /usr/local/lib/python3.7/dist-packages (from shap) (1.3.5)\n",
            "Requirement already satisfied: packaging>20.9 in /usr/local/lib/python3.7/dist-packages (from shap) (21.3)\n",
            "Requirement already satisfied: pyparsing!=3.0.5,>=2.0.2 in /usr/local/lib/python3.7/dist-packages (from packaging>20.9->shap) (3.0.9)\n",
            "Requirement already satisfied: llvmlite<0.40,>=0.39.0dev0 in /usr/local/lib/python3.7/dist-packages (from numba->shap) (0.39.1)\n",
            "Requirement already satisfied: importlib-metadata in /usr/local/lib/python3.7/dist-packages (from numba->shap) (4.13.0)\n",
            "Requirement already satisfied: setuptools in /usr/local/lib/python3.7/dist-packages (from numba->shap) (57.4.0)\n",
            "Requirement already satisfied: typing-extensions>=3.6.4 in /usr/local/lib/python3.7/dist-packages (from importlib-metadata->numba->shap) (4.1.1)\n",
            "Requirement already satisfied: zipp>=0.5 in /usr/local/lib/python3.7/dist-packages (from importlib-metadata->numba->shap) (3.10.0)\n",
            "Requirement already satisfied: python-dateutil>=2.7.3 in /usr/local/lib/python3.7/dist-packages (from pandas->shap) (2.8.2)\n",
            "Requirement already satisfied: pytz>=2017.3 in /usr/local/lib/python3.7/dist-packages (from pandas->shap) (2022.6)\n",
            "Requirement already satisfied: six>=1.5 in /usr/local/lib/python3.7/dist-packages (from python-dateutil>=2.7.3->pandas->shap) (1.15.0)\n",
            "Requirement already satisfied: threadpoolctl>=2.0.0 in /usr/local/lib/python3.7/dist-packages (from scikit-learn->shap) (3.1.0)\n",
            "Requirement already satisfied: joblib>=0.11 in /usr/local/lib/python3.7/dist-packages (from scikit-learn->shap) (1.2.0)\n",
            "Installing collected packages: slicer, shap\n",
            "Successfully installed shap-0.41.0 slicer-0.0.7\n"
          ]
        }
      ]
    },
    {
      "cell_type": "code",
      "source": [
        "import shap\n",
        "\n",
        "model = RandomForestClassifier(n_estimators=125, max_depth=3)\n",
        "model.fit(X_train, y_train)\n",
        "\n",
        "explainer = shap.TreeExplainer(model)\n",
        "shap_values = explainer.shap_values(X_test)\n",
        "shap.summary_plot(shap_values[1], X_test) # Summary shap value terhadap label positive\n"
      ],
      "metadata": {
        "colab": {
          "base_uri": "https://localhost:8080/",
          "height": 319
        },
        "id": "Fk0t8O-abcUk",
        "outputId": "0ce52ddd-a29c-4a13-e00f-6726bda8e7ab"
      },
      "id": "Fk0t8O-abcUk",
      "execution_count": null,
      "outputs": [
        {
          "output_type": "display_data",
          "data": {
            "text/plain": [
              "<Figure size 576x309.6 with 2 Axes>"
            ],
            "image/png": "[encoded data removed]"
          },
          "metadata": {
            "needs_background": "light"
          }
        }
      ]
    },
    {
      "cell_type": "markdown",
      "source": [
        "## Confussion Matrix Model Random Forest"
      ],
      "metadata": {
        "id": "jFOPpP41pO7b"
      },
      "id": "jFOPpP41pO7b"
    },
    {
      "cell_type": "code",
      "source": [
        "# tuning hyperparameter RF + oversampling\n",
        "from sklearn.model_selection import RandomizedSearchCV, GridSearchCV\n",
        "\n",
        "n_estimators = [int(x) for x in np.linspace(125, 200, 15)]\n",
        "criterion = ['gini', 'entropy']\n",
        "max_depth = [int(x) for x in np.arange(3, 5)]\n",
        "min_samples_split = [int(x) for x in np.linspace(1000, 1200 ,20)]\n",
        "min_samples_leaf = [int(x) for x in np.linspace(200, 300, 20)] # min_samples_leaf\n",
        "hyperparameters = dict(n_estimators=n_estimators, criterion=criterion, max_depth=max_depth,\n",
        "                       min_samples_split=min_samples_split, min_samples_leaf=min_samples_leaf)\n",
        "\n",
        "rf = RandomForestClassifier(random_state=42)\n",
        "rs = RandomizedSearchCV(rf, hyperparameters, cv=5, scoring = 'roc_auc')\n",
        "rs.fit(X_train, y_train)\n",
        "eval_classification(rs)"
      ],
      "metadata": {
        "colab": {
          "base_uri": "https://localhost:8080/"
        },
        "id": "3s6kykoVqkuI",
        "outputId": "aa72755f-22aa-472b-9893-68da867584b9"
      },
      "id": "3s6kykoVqkuI",
      "execution_count": null,
      "outputs": [
        {
          "output_type": "stream",
          "name": "stdout",
          "text": [
            "Accuracy (Test Set): 0.87\n",
            "Accuracy (Train Set): 0.86\n",
            "Precision (Test Set): 0.55\n",
            "Precision (Train Set): 0.79\n",
            "Recall (Test Set): 0.79\n",
            "Recall (Train Set): 0.80\n",
            "F1-Score (Test Set): 0.65\n",
            "F1-Score (Test Set): 0.80\n",
            "roc_auc (test-proba): 0.90\n",
            "roc_auc (train-proba): 0.91\n",
            "roc_auc (crossval train): 0.9080763966383476\n",
            "roc_auc (crossval test): 0.9053253993125139\n"
          ]
        }
      ]
    },
    {
      "cell_type": "code",
      "source": [
        "from sklearn.metrics import confusion_matrix\n",
        "import matplotlib.pyplot as plt\n",
        "\n",
        "y_pred = rs.predict(X_test)\n",
        "cf_matrix = confusion_matrix(y_test, y_pred)\n",
        "\n",
        "# display matrix\n",
        "group_names = ['TN','FP','FN','TP']\n",
        "group_counts = ['{0:0.0f}'.format(value) for value in\n",
        "                cf_matrix.flatten()]\n",
        "group_percentages = ['{0:.2%}'.format(value) for value in\n",
        "                     cf_matrix.flatten()/np.sum(cf_matrix)]\n",
        "labels = [f'{v1}\\n{v2}\\n{v3}' for v1, v2, v3 in\n",
        "          zip(group_names,group_counts,group_percentages)]\n",
        "labels = np.asarray(labels).reshape(2,2)\n",
        "sns.heatmap(cf_matrix, annot=labels, fmt='', cmap='Blues')"
      ],
      "metadata": {
        "colab": {
          "base_uri": "https://localhost:8080/",
          "height": 283
        },
        "id": "euMzLyTBprd-",
        "outputId": "25276a05-d950-4f1e-8707-14a386181c44"
      },
      "id": "euMzLyTBprd-",
      "execution_count": null,
      "outputs": [
        {
          "output_type": "execute_result",
          "data": {
            "text/plain": [
              "<matplotlib.axes._subplots.AxesSubplot at 0x7f7691cec1d0>"
            ]
          },
          "metadata": {},
          "execution_count": 99
        },
        {
          "output_type": "display_data",
          "data": {
            "text/plain": [
              "<Figure size 432x288 with 2 Axes>"
            ],
            "image/png": "[encoded data removed]"
          },
          "metadata": {
            "needs_background": "light"
          }
        }
      ]
    },
    {
      "cell_type": "code",
      "source": [],
      "metadata": {
        "id": "EsWIOUkVrnMG"
      },
      "id": "EsWIOUkVrnMG",
      "execution_count": null,
      "outputs": []
    }
  ],
  "metadata": {
    "colab": {
      "provenance": [],
      "collapsed_sections": [
        "2d5453c3-33ef-4c95-b7e1-a77ce9630c7e",
        "05ada3ed-f1ce-4c5a-b0b6-ba89bb435db6",
        "36ee81ec-dbae-4a7c-9d37-3ec707a609c2",
        "f8aa482c-f322-4c7b-9eb4-07a6e4f78099",
        "fc67f11a-7f65-4315-bc20-abe241f7aa4c",
        "00f6873f-0fd6-42ae-b4cf-c1a058e43a4d",
        "d6371fcf-da30-4522-a46e-cc04ba880df6"
      ],
      "toc_visible": true
    },
    "kernelspec": {
      "display_name": "Python 3 (ipykernel)",
      "language": "python",
      "name": "python3"
    },
    "language_info": {
      "codemirror_mode": {
        "name": "ipython",
        "version": 3
      },
      "file_extension": ".py",
      "mimetype": "text/x-python",
      "name": "python",
      "nbconvert_exporter": "python",
      "pygments_lexer": "ipython3",
      "version": "3.9.12"
    }
  },
  "nbformat": 4,
  "nbformat_minor": 5
}